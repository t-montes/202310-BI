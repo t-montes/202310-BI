{
 "cells": [
  {
   "cell_type": "code",
   "execution_count": 1,
   "metadata": {
    "cell_id": "032e56ff8449446db4eec8e0896ede64",
    "deepnote_cell_type": "code",
    "deepnote_to_be_reexecuted": false,
    "execution_millis": 15535,
    "execution_start": 1680386734839,
    "is_output_hidden": true,
    "source_hash": "72548e6c"
   },
   "outputs": [
    {
     "name": "stdout",
     "output_type": "stream",
     "text": [
      "Requirement already satisfied: langdetect in c:\\users\\tony\\appdata\\local\\programs\\python\\python311\\lib\\site-packages (1.0.9)\n",
      "Requirement already satisfied: six in c:\\users\\tony\\appdata\\roaming\\python\\python311\\site-packages (from langdetect) (1.16.0)\n",
      "Note: you may need to restart the kernel to use updated packages.\n",
      "Requirement already satisfied: inflect in c:\\users\\tony\\appdata\\local\\programs\\python\\python311\\lib\\site-packages (6.0.2)\n",
      "Requirement already satisfied: pydantic>=1.9.1 in c:\\users\\tony\\appdata\\local\\programs\\python\\python311\\lib\\site-packages (from inflect) (1.10.7)\n",
      "Requirement already satisfied: typing-extensions>=4.2.0 in c:\\users\\tony\\appdata\\local\\programs\\python\\python311\\lib\\site-packages (from pydantic>=1.9.1->inflect) (4.5.0)\n",
      "Note: you may need to restart the kernel to use updated packages.\n",
      "Requirement already satisfied: stop_words==2018.7.23 in c:\\users\\tony\\appdata\\local\\programs\\python\\python311\\lib\\site-packages (2018.7.23)\n",
      "Note: you may need to restart the kernel to use updated packages.\n"
     ]
    }
   ],
   "source": [
    "%pip install langdetect\n",
    "%pip install inflect\n",
    "%pip install stop_words==2018.7.23"
   ]
  },
  {
   "cell_type": "markdown",
   "metadata": {
    "cell_id": "0e1d3a4987fc434185daebf04802a6f0",
    "deepnote_cell_type": "text-cell-h1",
    "formattedRanges": []
   },
   "source": [
    "# Proyecto 1 inteligencia de negocios"
   ]
  },
  {
   "cell_type": "markdown",
   "metadata": {
    "cell_id": "1d0ad899f7314f82a0b15fdd558f85e2",
    "deepnote_cell_type": "text-cell-p",
    "formattedRanges": []
   },
   "source": [
    "Integrantes:"
   ]
  },
  {
   "cell_type": "markdown",
   "metadata": {
    "cell_id": "900875f3395e4885869d90baf89c0f86",
    "deepnote_cell_type": "text-cell-bullet",
    "formattedRanges": []
   },
   "source": [
    "- Brian Manuel Rivera"
   ]
  },
  {
   "cell_type": "markdown",
   "metadata": {
    "cell_id": "ba94829b82be4fe4ba7c8a282cc83875",
    "deepnote_cell_type": "text-cell-bullet",
    "formattedRanges": []
   },
   "source": [
    "- Tony Santiago Montes"
   ]
  },
  {
   "cell_type": "markdown",
   "metadata": {
    "cell_id": "eb6b9530b0904167a0ffe0c8c9f2e58e",
    "deepnote_cell_type": "text-cell-bullet",
    "formattedRanges": []
   },
   "source": [
    "- Luccas Rojas"
   ]
  },
  {
   "cell_type": "markdown",
   "metadata": {
    "cell_id": "44c0c931-d05d-48d4-a5aa-78bb7f70486a",
    "deepnote_cell_type": "text-cell-p",
    "formattedRanges": []
   },
   "source": [
    "Como negocio vamos a asumir que vamos a ayudar a una empresa que vende un servicio de subscripción para ver películas en streaming como por ejemplo Netflix. Podemos ayudar a Netflix a mejorar su proceso de selección de películas, esto a través de generar un modelo que le ayude a predecir si una reseña de una película es positiva o negativa. Revisando así las reseñas de forma automática y ayudando al proceso de seleccion de las peliculas"
   ]
  },
  {
   "cell_type": "markdown",
   "metadata": {
    "cell_id": "d671d55f6c6e4723a2cf4f69670b5730",
    "deepnote_cell_type": "text-cell-h2",
    "formattedRanges": []
   },
   "source": [
    "## Entendimiento del negocio y enfoque analítico"
   ]
  },
  {
   "cell_type": "markdown",
   "metadata": {
    "cell_id": "713ae64e24164d52a3378e3d903ed036",
    "deepnote_cell_type": "text-cell-h3",
    "formattedRanges": []
   },
   "source": [
    "### Objetivos:"
   ]
  },
  {
   "cell_type": "markdown",
   "metadata": {
    "cell_id": "ad8d07b90c2d427b9ecf7c5d8a98e2d2",
    "deepnote_cell_type": "text-cell-p",
    "formattedRanges": []
   },
   "source": [
    "Nuestro principal objetivo va a ser poder predecir si una reseña de una película es positiva o negativa. Esto con el fin de que la empresa interesada pueda usar esta información para por ejemplo decidir que películas meter a una plataforma de streaming o que películas bajar de dicha plataforma por tener malas reseñas de los clientes. "
   ]
  },
  {
   "cell_type": "markdown",
   "metadata": {
    "cell_id": "94e281b7a31f4e479bac9b0f7f38dea1",
    "deepnote_cell_type": "text-cell-h3",
    "formattedRanges": []
   },
   "source": [
    "### Criterios de éxito:"
   ]
  },
  {
   "cell_type": "markdown",
   "metadata": {
    "cell_id": "fa03b4061f964ea38f6f3b7892e767ef",
    "deepnote_cell_type": "text-cell-p",
    "formattedRanges": []
   },
   "source": [
    "Nuestros criterios de éxito estarán dados por cuántas reseñas podemos clasificar de manera correcta entre reseñas positivas y reseñas negativas. Esto será cuantificado a través de un porcentaje que presenta el número de películas que son clasificadas correctamente sobre el total de películas a clasificar."
   ]
  },
  {
   "cell_type": "markdown",
   "metadata": {
    "cell_id": "c59a35c59d7747fa9b8eef3cfc2995fa",
    "deepnote_cell_type": "text-cell-h3",
    "formattedRanges": []
   },
   "source": [
    "### Técnicas y algoritmos:"
   ]
  },
  {
   "cell_type": "markdown",
   "metadata": {
    "cell_id": "c84828857eee4c898d58fab5d1699ef8",
    "deepnote_cell_type": "text-cell-p",
    "formattedRanges": []
   },
   "source": [
    "Para poder lograr casificar las reseñas entre positivas y negativas a través del aprendizaje automático vamos a utilizar distintos algorítmos de clasificación, como lo son Regresión Logística, Naive Bayes y SVM. Evaluaremos el comportamiento de los 3 algorítmos para así poder mejorar la predicción entregada. Esto nos permitirá a través de un proceso de entrenamiento generar un modelo que nos permitirá predecir si una reseña nueva es positiva o negativa."
   ]
  },
  {
   "cell_type": "markdown",
   "metadata": {
    "cell_id": "4c250c4a819d44e08d304eb780c1c9b3",
    "deepnote_cell_type": "text-cell-h3",
    "formattedRanges": []
   },
   "source": [
    "### Oportunidad:"
   ]
  },
  {
   "cell_type": "markdown",
   "metadata": {
    "cell_id": "602353ea47e14d75917ef0f9ecdb26ba",
    "deepnote_cell_type": "text-cell-p",
    "formattedRanges": []
   },
   "source": [
    "Como empresa observamos que este proyecto tiene una gran oportunidad de negocio, ya que con el modelo de aprendizaje automático que deseamos desarrollar la empresa podrá aumentar su número de clientes y así sus ganancias. Esto ya que va a ser capaz de tener mejor contenido en su sitio de streaming y así atraer más clientes."
   ]
  },
  {
   "cell_type": "markdown",
   "metadata": {
    "cell_id": "1d204dc076a54410a89283e42110a318",
    "deepnote_cell_type": "text-cell-h3",
    "formattedRanges": []
   },
   "source": [
    "### Beneficiados:"
   ]
  },
  {
   "cell_type": "markdown",
   "metadata": {
    "cell_id": "0eb97e6aa2e74f22918ea516958a4ca0",
    "deepnote_cell_type": "text-cell-p",
    "formattedRanges": []
   },
   "source": [
    "El beneificiario es la organización que va a poder utilizar la información entregada por el modelo para tomar desiciones que aporten al crecimiento del negocio. "
   ]
  },
  {
   "cell_type": "code",
   "execution_count": 2,
   "metadata": {
    "cell_id": "ecddf5e8c9a54015b6873fb31e12ea1f",
    "deepnote_cell_type": "code",
    "deepnote_to_be_reexecuted": false,
    "execution_millis": 6,
    "execution_start": 1680390313278,
    "source_hash": "9db392e3"
   },
   "outputs": [
    {
     "name": "stderr",
     "output_type": "stream",
     "text": [
      "[nltk_data] Downloading package stopwords to\n",
      "[nltk_data]     C:\\Users\\Tony\\AppData\\Roaming\\nltk_data...\n",
      "[nltk_data]   Package stopwords is already up-to-date!\n"
     ]
    }
   ],
   "source": [
    "from sklearn.model_selection import train_test_split, RandomizedSearchCV\n",
    "import string\n",
    "import joblib\n",
    "import numpy as np\n",
    "import pandas as pd\n",
    "import matplotlib.pyplot as plt\n",
    "import seaborn as sns\n",
    "from langdetect import detect\n",
    "import nltk\n",
    "import unicodedata\n",
    "import re\n",
    "from sklearn.svm import SVC\n",
    "import inflect\n",
    "from nltk.stem import PorterStemmer\n",
    "from joblib import Parallel, delayed\n",
    "import os\n",
    "import scipy as sp\n",
    "from sklearn.pipeline import Pipeline, make_pipeline\n",
    "from nltk.corpus import stopwords\n",
    "from sklearn.feature_extraction.text import CountVectorizer\n",
    "\n",
    "from sklearn.model_selection import train_test_split\n",
    "from sklearn.feature_extraction.text import CountVectorizer, TfidfVectorizer\n",
    "\n",
    "from sklearn.ensemble import RandomForestClassifier\n",
    "\n",
    "from sklearn.naive_bayes import GaussianNB, MultinomialNB\n",
    "\n",
    "from sklearn.metrics import accuracy_score\n",
    "from sklearn.model_selection import GridSearchCV\n",
    "from sklearn.model_selection import KFold \n",
    "from nltk.stem import SnowballStemmer\n",
    "from sklearn.feature_extraction.text import TfidfVectorizer\n",
    "from sklearn.linear_model import LogisticRegression\n",
    "from sklearn.pipeline import Pipeline\n",
    "from sklearn.model_selection import train_test_split\n",
    "from sklearn.metrics import ConfusionMatrixDisplay, precision_score, recall_score, f1_score \n",
    "nltk.download('stopwords')\n",
    "\n",
    "from sklearn.base import BaseEstimator, TransformerMixin\n",
    "from sklearn.utils.validation import check_is_fitted\n",
    "\n",
    "from sklearn.metrics import classification_report"
   ]
  },
  {
   "cell_type": "markdown",
   "metadata": {
    "cell_id": "f09955dbb5cb4da8b0b3c117a9167e3b",
    "deepnote_cell_type": "text-cell-h1",
    "formattedRanges": [],
    "is_collapsed": false
   },
   "source": [
    "# 1. Carga de datos "
   ]
  },
  {
   "cell_type": "code",
   "execution_count": 3,
   "metadata": {
    "cell_id": "fbcfc0f8538b41a4abf4236e3de60b2d",
    "deepnote_cell_type": "code",
    "deepnote_to_be_reexecuted": false,
    "execution_millis": 112,
    "execution_start": 1680386754831,
    "source_hash": "11779e9e"
   },
   "outputs": [],
   "source": [
    "data = pd.read_csv('data/MovieReviews.csv')"
   ]
  },
  {
   "cell_type": "code",
   "execution_count": 4,
   "metadata": {
    "cell_id": "c695fa2df17e43cfa7ed6b66cb0a7467",
    "deepnote_cell_type": "code",
    "deepnote_to_be_reexecuted": false,
    "execution_millis": 3,
    "execution_start": 1680386754983,
    "source_hash": "2007f58"
   },
   "outputs": [
    {
     "data": {
      "text/plain": [
       "(5000, 3)"
      ]
     },
     "execution_count": 4,
     "metadata": {},
     "output_type": "execute_result"
    }
   ],
   "source": [
    "data.shape"
   ]
  },
  {
   "cell_type": "markdown",
   "metadata": {
    "cell_id": "65002391982c40528c71aa3fb9a28bbb",
    "deepnote_cell_type": "text-cell-p",
    "formattedRanges": [],
    "is_collapsed": false
   },
   "source": [
    "Mostrar ejemplo de los datos"
   ]
  },
  {
   "cell_type": "code",
   "execution_count": 5,
   "metadata": {
    "cell_id": "ecdd271d162c40f7b41d3205b4c249e5",
    "deepnote_cell_type": "code",
    "deepnote_to_be_reexecuted": false,
    "execution_millis": 3,
    "execution_start": 1680386754984,
    "source_hash": "7dbf2f68"
   },
   "outputs": [
    {
     "data": {
      "text/html": [
       "<div>\n",
       "<style scoped>\n",
       "    .dataframe tbody tr th:only-of-type {\n",
       "        vertical-align: middle;\n",
       "    }\n",
       "\n",
       "    .dataframe tbody tr th {\n",
       "        vertical-align: top;\n",
       "    }\n",
       "\n",
       "    .dataframe thead th {\n",
       "        text-align: right;\n",
       "    }\n",
       "</style>\n",
       "<table border=\"1\" class=\"dataframe\">\n",
       "  <thead>\n",
       "    <tr style=\"text-align: right;\">\n",
       "      <th></th>\n",
       "      <th>Unnamed: 0</th>\n",
       "      <th>review_es</th>\n",
       "      <th>sentimiento</th>\n",
       "    </tr>\n",
       "  </thead>\n",
       "  <tbody>\n",
       "    <tr>\n",
       "      <th>2571</th>\n",
       "      <td>2571</td>\n",
       "      <td>Las bragas de la niña olfatea matan a un chico...</td>\n",
       "      <td>negativo</td>\n",
       "    </tr>\n",
       "    <tr>\n",
       "      <th>1012</th>\n",
       "      <td>1012</td>\n",
       "      <td>¿Qué tan bueno es esta película?Aparentemente,...</td>\n",
       "      <td>positivo</td>\n",
       "    </tr>\n",
       "    <tr>\n",
       "      <th>3988</th>\n",
       "      <td>3988</td>\n",
       "      <td>Logré evitar leer Hemingway en la universidad....</td>\n",
       "      <td>negativo</td>\n",
       "    </tr>\n",
       "    <tr>\n",
       "      <th>619</th>\n",
       "      <td>619</td>\n",
       "      <td>Fiel a la obra de Pearl S. Buck cuyos años pas...</td>\n",
       "      <td>positivo</td>\n",
       "    </tr>\n",
       "    <tr>\n",
       "      <th>64</th>\n",
       "      <td>64</td>\n",
       "      <td>¿Quién dijo que el horror no era un género de ...</td>\n",
       "      <td>positivo</td>\n",
       "    </tr>\n",
       "    <tr>\n",
       "      <th>4109</th>\n",
       "      <td>4109</td>\n",
       "      <td>Esto es sin duda la peor película que he visto...</td>\n",
       "      <td>negativo</td>\n",
       "    </tr>\n",
       "    <tr>\n",
       "      <th>51</th>\n",
       "      <td>51</td>\n",
       "      <td>Dos mujeres, enfermo de sus esposos controlado...</td>\n",
       "      <td>positivo</td>\n",
       "    </tr>\n",
       "    <tr>\n",
       "      <th>2061</th>\n",
       "      <td>2061</td>\n",
       "      <td>El grupo de personas viajan a Belgrado en un a...</td>\n",
       "      <td>positivo</td>\n",
       "    </tr>\n",
       "    <tr>\n",
       "      <th>2129</th>\n",
       "      <td>2129</td>\n",
       "      <td>Para citar a Jason Connery y Mark Ryan en uno ...</td>\n",
       "      <td>positivo</td>\n",
       "    </tr>\n",
       "    <tr>\n",
       "      <th>4580</th>\n",
       "      <td>4580</td>\n",
       "      <td>Por supuesto, no soy el connoisseur d'horror, ...</td>\n",
       "      <td>negativo</td>\n",
       "    </tr>\n",
       "  </tbody>\n",
       "</table>\n",
       "</div>"
      ],
      "text/plain": [
       "      Unnamed: 0                                          review_es  \\\n",
       "2571        2571  Las bragas de la niña olfatea matan a un chico...   \n",
       "1012        1012  ¿Qué tan bueno es esta película?Aparentemente,...   \n",
       "3988        3988  Logré evitar leer Hemingway en la universidad....   \n",
       "619          619  Fiel a la obra de Pearl S. Buck cuyos años pas...   \n",
       "64            64  ¿Quién dijo que el horror no era un género de ...   \n",
       "4109        4109  Esto es sin duda la peor película que he visto...   \n",
       "51            51  Dos mujeres, enfermo de sus esposos controlado...   \n",
       "2061        2061  El grupo de personas viajan a Belgrado en un a...   \n",
       "2129        2129  Para citar a Jason Connery y Mark Ryan en uno ...   \n",
       "4580        4580  Por supuesto, no soy el connoisseur d'horror, ...   \n",
       "\n",
       "     sentimiento  \n",
       "2571    negativo  \n",
       "1012    positivo  \n",
       "3988    negativo  \n",
       "619     positivo  \n",
       "64      positivo  \n",
       "4109    negativo  \n",
       "51      positivo  \n",
       "2061    positivo  \n",
       "2129    positivo  \n",
       "4580    negativo  "
      ]
     },
     "execution_count": 5,
     "metadata": {},
     "output_type": "execute_result"
    }
   ],
   "source": [
    "data.sample(10)"
   ]
  },
  {
   "cell_type": "code",
   "execution_count": 6,
   "metadata": {
    "cell_id": "16254793eceb457884ffcea633f4caa9",
    "deepnote_cell_type": "code",
    "deepnote_to_be_reexecuted": false,
    "execution_millis": 16,
    "execution_start": 1680386754998,
    "source_hash": "957547ae"
   },
   "outputs": [
    {
     "name": "stdout",
     "output_type": "stream",
     "text": [
      "<class 'pandas.core.frame.DataFrame'>\n",
      "RangeIndex: 5000 entries, 0 to 4999\n",
      "Data columns (total 3 columns):\n",
      " #   Column       Non-Null Count  Dtype \n",
      "---  ------       --------------  ----- \n",
      " 0   Unnamed: 0   5000 non-null   int64 \n",
      " 1   review_es    5000 non-null   object\n",
      " 2   sentimiento  5000 non-null   object\n",
      "dtypes: int64(1), object(2)\n",
      "memory usage: 117.3+ KB\n"
     ]
    }
   ],
   "source": [
    "data.info()"
   ]
  },
  {
   "cell_type": "markdown",
   "metadata": {
    "cell_id": "684754a0c92f4e43a2c017a94b1a81c7",
    "deepnote_cell_type": "text-cell-p",
    "formattedRanges": []
   },
   "source": [
    "Se asegura el idioma de los datos, para que estos tengan solo el idioma español."
   ]
  },
  {
   "cell_type": "code",
   "execution_count": 7,
   "metadata": {
    "cell_id": "2527439708da4da1b0a7a32894019373",
    "deepnote_cell_type": "code",
    "deepnote_to_be_reexecuted": false,
    "execution_millis": 60723,
    "execution_start": 1680386755018,
    "source_hash": "59bab23f"
   },
   "outputs": [
    {
     "name": "stdout",
     "output_type": "stream",
     "text": [
      "es    0.9606\n",
      "en    0.0392\n",
      "id    0.0002\n",
      "Name: idioma, dtype: float64\n"
     ]
    }
   ],
   "source": [
    "# Creamos una nueva columna para almacenar el idioma detectado\n",
    "data['idioma'] = data['review_es'].apply(detect)\n",
    "\n",
    "# Calculamos la proporción de cada idioma\n",
    "proporcion_idiomas = data['idioma'].value_counts(normalize=True)\n",
    "print(proporcion_idiomas)"
   ]
  },
  {
   "cell_type": "markdown",
   "metadata": {
    "cell_id": "62b18893aa7740869b5e3b394d6a4417",
    "deepnote_cell_type": "text-cell-h1",
    "formattedRanges": [],
    "is_collapsed": false
   },
   "source": [
    "# 2. Limpieza y preparacion"
   ]
  },
  {
   "cell_type": "code",
   "execution_count": 8,
   "metadata": {
    "cell_id": "de94040825a141eaac167910490b025f",
    "deepnote_cell_type": "code",
    "deepnote_to_be_reexecuted": false,
    "execution_millis": 2,
    "execution_start": 1680386815739,
    "source_hash": "a45d5d2f"
   },
   "outputs": [],
   "source": [
    "#Copiamos los datos para no modificar los datos orginiales\n",
    "data_clean = data.copy(deep=True)"
   ]
  },
  {
   "cell_type": "markdown",
   "metadata": {
    "cell_id": "9553d97e9c0a44cea7f79f1ad92ec81b",
    "deepnote_cell_type": "text-cell-p",
    "formattedRanges": [],
    "is_collapsed": false
   },
   "source": [
    "Cambiar la variable resultado a un booleano, donde 0 sea negativo y 1 sea positivo"
   ]
  },
  {
   "cell_type": "code",
   "execution_count": 9,
   "metadata": {
    "cell_id": "d33e44f351b04c62a8ec6bd54e45cd4b",
    "deepnote_cell_type": "code",
    "deepnote_to_be_reexecuted": false,
    "execution_millis": 4,
    "execution_start": 1680386815739,
    "source_hash": "8961c838"
   },
   "outputs": [],
   "source": [
    "dict_conversion={\"positivo\":1,\"negativo\":0}\n",
    "data_clean[\"sentimiento\"] = data_clean[\"sentimiento\"].map(dict_conversion)"
   ]
  },
  {
   "cell_type": "code",
   "execution_count": 10,
   "metadata": {
    "cell_id": "720b052cfc1f4ef8b8302a15352d3ba5",
    "deepnote_cell_type": "code",
    "deepnote_to_be_reexecuted": false,
    "execution_millis": 4,
    "execution_start": 1680386815786,
    "source_hash": "d786443f"
   },
   "outputs": [
    {
     "data": {
      "text/html": [
       "<div>\n",
       "<style scoped>\n",
       "    .dataframe tbody tr th:only-of-type {\n",
       "        vertical-align: middle;\n",
       "    }\n",
       "\n",
       "    .dataframe tbody tr th {\n",
       "        vertical-align: top;\n",
       "    }\n",
       "\n",
       "    .dataframe thead th {\n",
       "        text-align: right;\n",
       "    }\n",
       "</style>\n",
       "<table border=\"1\" class=\"dataframe\">\n",
       "  <thead>\n",
       "    <tr style=\"text-align: right;\">\n",
       "      <th></th>\n",
       "      <th>Unnamed: 0</th>\n",
       "    </tr>\n",
       "  </thead>\n",
       "  <tbody>\n",
       "    <tr>\n",
       "      <th>count</th>\n",
       "      <td>5000.000000</td>\n",
       "    </tr>\n",
       "    <tr>\n",
       "      <th>mean</th>\n",
       "      <td>2499.500000</td>\n",
       "    </tr>\n",
       "    <tr>\n",
       "      <th>std</th>\n",
       "      <td>1443.520003</td>\n",
       "    </tr>\n",
       "    <tr>\n",
       "      <th>min</th>\n",
       "      <td>0.000000</td>\n",
       "    </tr>\n",
       "    <tr>\n",
       "      <th>25%</th>\n",
       "      <td>1249.750000</td>\n",
       "    </tr>\n",
       "    <tr>\n",
       "      <th>50%</th>\n",
       "      <td>2499.500000</td>\n",
       "    </tr>\n",
       "    <tr>\n",
       "      <th>75%</th>\n",
       "      <td>3749.250000</td>\n",
       "    </tr>\n",
       "    <tr>\n",
       "      <th>max</th>\n",
       "      <td>4999.000000</td>\n",
       "    </tr>\n",
       "  </tbody>\n",
       "</table>\n",
       "</div>"
      ],
      "text/plain": [
       "        Unnamed: 0\n",
       "count  5000.000000\n",
       "mean   2499.500000\n",
       "std    1443.520003\n",
       "min       0.000000\n",
       "25%    1249.750000\n",
       "50%    2499.500000\n",
       "75%    3749.250000\n",
       "max    4999.000000"
      ]
     },
     "execution_count": 10,
     "metadata": {},
     "output_type": "execute_result"
    }
   ],
   "source": [
    "data.describe()"
   ]
  },
  {
   "cell_type": "markdown",
   "metadata": {
    "cell_id": "94ee474a82ea45deb4910c98a4df4db7",
    "deepnote_cell_type": "text-cell-p",
    "formattedRanges": []
   },
   "source": [
    "Cómo podemos ver nos encontramos con una columna numérica que no aporta información."
   ]
  },
  {
   "cell_type": "code",
   "execution_count": 11,
   "metadata": {
    "cell_id": "ee8564692037435fb4443d0198ae3887",
    "deepnote_cell_type": "code",
    "deepnote_to_be_reexecuted": false,
    "execution_millis": 3,
    "execution_start": 1680386815787,
    "source_hash": "8751080b"
   },
   "outputs": [],
   "source": [
    "numeric_cols = data_clean.select_dtypes(include=['int64', 'float64'])\n",
    "categorical_cols = data_clean.select_dtypes(include=['object'])"
   ]
  },
  {
   "cell_type": "markdown",
   "metadata": {
    "cell_id": "93559c70ce5949998e7e28ffc1b36289",
    "deepnote_cell_type": "text-cell-h2",
    "formattedRanges": [],
    "is_collapsed": false
   },
   "source": [
    "## 2.1 Unicidad"
   ]
  },
  {
   "cell_type": "code",
   "execution_count": 12,
   "metadata": {
    "cell_id": "274955f6ed3b481884d19e2fc333e64f",
    "deepnote_cell_type": "code",
    "deepnote_to_be_reexecuted": false,
    "execution_millis": 1,
    "execution_start": 1680386815830,
    "source_hash": "4a7c2cb2"
   },
   "outputs": [
    {
     "data": {
      "text/plain": [
       "0"
      ]
     },
     "execution_count": 12,
     "metadata": {},
     "output_type": "execute_result"
    }
   ],
   "source": [
    "data_clean.duplicated().sum()"
   ]
  },
  {
   "cell_type": "markdown",
   "metadata": {
    "cell_id": "394642b9a3734f00a66d0f35ece1e950",
    "deepnote_cell_type": "text-cell-p",
    "formattedRanges": []
   },
   "source": [
    "No hay opiniones que sean exactamente iguales entre las películas."
   ]
  },
  {
   "cell_type": "markdown",
   "metadata": {
    "cell_id": "68bd93a4465945dcae74632f8cfbc200",
    "deepnote_cell_type": "text-cell-h2",
    "formattedRanges": [],
    "is_collapsed": false
   },
   "source": [
    "## 2.2 Completitud"
   ]
  },
  {
   "cell_type": "code",
   "execution_count": 13,
   "metadata": {
    "cell_id": "2445e343b9d140d78bdffdcc01151562",
    "deepnote_cell_type": "code",
    "deepnote_to_be_reexecuted": false,
    "execution_millis": 3,
    "execution_start": 1680386815886,
    "source_hash": "e54b92c8"
   },
   "outputs": [
    {
     "data": {
      "text/plain": [
       "Unnamed: 0     0\n",
       "review_es      0\n",
       "sentimiento    0\n",
       "idioma         0\n",
       "dtype: int64"
      ]
     },
     "execution_count": 13,
     "metadata": {},
     "output_type": "execute_result"
    }
   ],
   "source": [
    "#Revisar la cantidad de nulos\n",
    "data_clean.isnull().sum()"
   ]
  },
  {
   "cell_type": "markdown",
   "metadata": {
    "cell_id": "2bc9dfa007384cbaaa241fd18a218186",
    "deepnote_cell_type": "text-cell-p",
    "formattedRanges": []
   },
   "source": [
    "No hay datos nulos."
   ]
  },
  {
   "cell_type": "markdown",
   "metadata": {
    "cell_id": "6eb3059b63fc4905a6dfcb657476dc5c",
    "deepnote_cell_type": "text-cell-h2",
    "formattedRanges": [],
    "is_collapsed": false
   },
   "source": [
    "## 2.3 Consistencia "
   ]
  },
  {
   "cell_type": "markdown",
   "metadata": {
    "cell_id": "7da548ddaf744417acf41cc433c1b8f7",
    "deepnote_cell_type": "text-cell-p",
    "formattedRanges": [],
    "is_collapsed": false
   },
   "source": [
    "Para este caso confiamos en la consistencia de la fuente, ya que nos es complicado verificar la consistencia"
   ]
  },
  {
   "cell_type": "markdown",
   "metadata": {
    "cell_id": "96303972cb544e8498a15c5894552f5c",
    "deepnote_cell_type": "text-cell-h2",
    "formattedRanges": [],
    "is_collapsed": false
   },
   "source": [
    "## 2.4 Validez"
   ]
  },
  {
   "cell_type": "code",
   "execution_count": 14,
   "metadata": {
    "cell_id": "e87de8bf106b4255ab5620d5aacfc0f6",
    "deepnote_cell_type": "code",
    "deepnote_to_be_reexecuted": false,
    "execution_millis": 45,
    "execution_start": 1680386815887,
    "source_hash": "b865ac79"
   },
   "outputs": [
    {
     "name": "stdout",
     "output_type": "stream",
     "text": [
      "review_es : ['Si está buscando una película de guerra típica, esta no es así, por lo que una nota a todos los aficionados a la guerra de ansiancia de carnajería de testosterona, no se molesten.Aunque la película se trata de personajes rusos en la Segunda Guerra Mundial, no espere ver a ningún nazis, cañones, sangre, sangre, etc. No es una película sobre las personas que causan una guerra o que luchan contra una guerra.Es una película sobre las personas ordinarias que le ocurren la guerra y las elecciones que hacen para tratar con ella. Cinematografía, escritura: todos los 10s perfectos aquí.Sin duda, lo apreciarás si eres ruso como yo, pero incluso si no, probablemente lo ames.Si no habla ruso, busque la versión DVD del DVD de Ruscico (Russian Cinema Cinema).Tiene subtítulos en unos 14 idiomas diferentes, pero el doblaje inglés en este que diría es igual de bueno.Por supuesto, no es tan bueno como la pista rusa original (algunas cosas se pierden en la traducción), sino tan buenas como los subtítulos en inglés.Así que vaya a revisarlo, especialmente si está estudiando una película en cualquier aspecto.'\n",
      " 'Supongo que algunos directores de películas de lujo estaban sentados buscando su abrigo, Grappa, Aramangac o jugo de selva alguna noche en los años 80 durante los cannes u otro festival de cine y uno dijo: \"Oye, chicos, hagamos una película donde cada uno de nosotros cree un segmento alrededor una clase mundial aria \". Welllll ... Tipo de tipo de trabajo. Claramente, alguien fue lo suficientemente inteligente como para seleccionar algunas de las mejores grabaciones de las Arias elegidas, por ejemplo, Nessun Dorma de Bjoreling, así que si estuvieras ciego y mintiendo en el piso, simplemente escuchando el DVD, obtuviste más que el valor de tu dinero. No todos los directores lo sucedieron, pero más lo hicieron, lo que no y la película parece mejorar con cada visión a lo largo de los años. Mi favorito es el dúo de amor inquietantemente hermoso de Die Tod Statd; Está bien, un joven desnudo, Elizabeth Hurley es ojos, pero su marido cantó a ella, el fantasma de su esposa, es increíblemente hermoso con la música del amor segundo solo para \"Gia Nella Notte Densa\" de Otello y Desdemona en todo el repertorio operístico. ¿Podría haber sido mejor el flick, seguro, lo que no podría haber sido, pero vale la pena una visión especialmente de un estado de ánimo hiper-romántico?'\n",
      " \"Es difícil contarle más sobre esta película sin estropearla.Lo disfruté porque no esperaba lo que estaba viendo, sino un drama sexual ordinario, así que ... es un thriller de PSCYHO-sexual, en el que nada es lo que parece.Cuenta con Emmanuelle Seigner, sin extraño al género (y a la desnudez) en la que su esposo, Polanski, la había dirigido.Y un rendimiento espeluznante (dije espeluznante / sí espeluznante) de Toreton (el actor de Bernard Tavernier).Parece que un Pascal Bruckner se encuentra con Roman Polanski (mejor que la luna amarga), como un chabrol que se fue por extravisos o thriller de Clouzot (he visto a alguien que menciona Les diaboliques), pero más cerca de Georges Franju's Les Yeux Sans Visage (ojos sin cara, laPadrino del Dr. Phibes y más).Una gema !Solo me temo que lo hicieran en un remake de Hollywood como lo hicieron con Nighwatch y la desaparición.\"\n",
      " ...\n",
      " 'Quien escribió el script para esta película no merece trabajar en Hollywood en absoluto (ni siquiera vivir allí), y esos actores necesitan encontrar otro trabajo.La hora más terrible y unos minutos de mi vida ... y solo seguí viendo para ver si mejoraría lo que, desafortunadamente, no lo hizo. Incluso al final, los créditos me dieron ansiedad.Supongo que no había mucha gente detrás de la película, por lo que tenían que rodar los créditos lentamente ... muy lentamente. Esta película es definitivamente una excelente \"cómo no hacer una película\".Lástima que no pueda dar un 0.'\n",
      " \"in a TV-movie 70's kind of way It's one of those movies that show up in the wee hours, but rarely because more modern late-hour schlock movies bump it off It has likeable performances by Graves and Wynn Generally, it's just a harmless little piece of nothing that doesn't offend too badly Nothing good, a lot that's mediocre\"\n",
      " 'Película decepcionante, predecible en la que una mujer (Mc Teer) viaja con su hija de estado a estado porque no puede mantener las relaciones y encontrar la felicidad.En este género \"en cualquier lugar, pero aquí\" protagonizando a Susan Sarandon y Natalie Portman, le dio una mejor idea de una relación madre / hija.Con mejor actuación también.']\n",
      "sentimiento : [negativo, positivo]\n",
      "idioma : ['es' 'en' 'id']\n",
      "Unnamed: 0 : [0, 4999]\n"
     ]
    }
   ],
   "source": [
    "possible_values = {i:'' for i in data_clean.columns if 'Unnamed' not in i}\n",
    "\n",
    "for col in numeric_cols:\n",
    "    possible_values[col] = f\"[{data[col].min()}, {data[col].max()}]\"\n",
    "\n",
    "for col in categorical_cols:\n",
    "    possible_values[col] = str(data[col].unique())\n",
    "\n",
    "for k,v in possible_values.items():\n",
    "    print(f\"{k} : {v}\")"
   ]
  },
  {
   "cell_type": "markdown",
   "metadata": {
    "cell_id": "2347e0ad877f424f850dd6a49382ee90",
    "deepnote_cell_type": "text-cell-p",
    "formattedRanges": []
   },
   "source": [
    "Exceptuando la columna de unnamed: 0, los datos parecen estar en un formato adecuado que permita la visualización y el tratamiento de los datos."
   ]
  },
  {
   "cell_type": "markdown",
   "metadata": {
    "cell_id": "c6daf2a932a24327aa6f365ce28f42b9",
    "deepnote_cell_type": "text-cell-p",
    "formattedRanges": [],
    "is_collapsed": false
   },
   "source": [
    "Observar la distribucion de reseñas"
   ]
  },
  {
   "cell_type": "code",
   "execution_count": 15,
   "metadata": {
    "cell_id": "57840003a96446bfacfb7411ae376d6e",
    "deepnote_cell_type": "code",
    "deepnote_to_be_reexecuted": false,
    "execution_millis": 244,
    "execution_start": 1680386815931,
    "source_hash": "4d7b2c8d"
   },
   "outputs": [
    {
     "data": {
      "image/png": "[encoded data removed]",
      "text/plain": [
       "<Figure size 640x480 with 1 Axes>"
      ]
     },
     "metadata": {},
     "output_type": "display_data"
    }
   ],
   "source": [
    "ax = sns.countplot(x=\"sentimiento\", data=data_clean)"
   ]
  },
  {
   "cell_type": "markdown",
   "metadata": {
    "cell_id": "c71f0679f47742a3b30f8d3d058e7eb2",
    "deepnote_cell_type": "text-cell-p",
    "formattedRanges": []
   },
   "source": [
    "Limpieza de columnas sin valor."
   ]
  },
  {
   "cell_type": "code",
   "execution_count": 16,
   "metadata": {
    "cell_id": "55ae1b6818584307aa2ac5756a9068f6",
    "deepnote_cell_type": "code",
    "deepnote_to_be_reexecuted": false,
    "execution_millis": 8,
    "execution_start": 1680386816171,
    "source_hash": "8fda4ce0"
   },
   "outputs": [],
   "source": [
    "data_clean.drop([\"Unnamed: 0\"], axis=1, inplace=True)"
   ]
  },
  {
   "cell_type": "code",
   "execution_count": 17,
   "metadata": {
    "cell_id": "bcd393b4df3e417c89d4fe83e2c74c45",
    "deepnote_cell_type": "code",
    "deepnote_to_be_reexecuted": false,
    "execution_millis": 7,
    "execution_start": 1680386816238,
    "source_hash": "f18f46c4"
   },
   "outputs": [
    {
     "data": {
      "text/html": [
       "<div>\n",
       "<style scoped>\n",
       "    .dataframe tbody tr th:only-of-type {\n",
       "        vertical-align: middle;\n",
       "    }\n",
       "\n",
       "    .dataframe tbody tr th {\n",
       "        vertical-align: top;\n",
       "    }\n",
       "\n",
       "    .dataframe thead th {\n",
       "        text-align: right;\n",
       "    }\n",
       "</style>\n",
       "<table border=\"1\" class=\"dataframe\">\n",
       "  <thead>\n",
       "    <tr style=\"text-align: right;\">\n",
       "      <th></th>\n",
       "      <th>review_es</th>\n",
       "      <th>sentimiento</th>\n",
       "      <th>idioma</th>\n",
       "    </tr>\n",
       "  </thead>\n",
       "  <tbody>\n",
       "    <tr>\n",
       "      <th>0</th>\n",
       "      <td>Si está buscando una película de guerra típica...</td>\n",
       "      <td>1</td>\n",
       "      <td>es</td>\n",
       "    </tr>\n",
       "    <tr>\n",
       "      <th>1</th>\n",
       "      <td>Supongo que algunos directores de películas de...</td>\n",
       "      <td>1</td>\n",
       "      <td>es</td>\n",
       "    </tr>\n",
       "    <tr>\n",
       "      <th>2</th>\n",
       "      <td>Es difícil contarle más sobre esta película si...</td>\n",
       "      <td>1</td>\n",
       "      <td>es</td>\n",
       "    </tr>\n",
       "    <tr>\n",
       "      <th>3</th>\n",
       "      <td>La película comienza muy lentamente, con el es...</td>\n",
       "      <td>1</td>\n",
       "      <td>es</td>\n",
       "    </tr>\n",
       "    <tr>\n",
       "      <th>4</th>\n",
       "      <td>Esta película es verdadera acción en su máxima...</td>\n",
       "      <td>1</td>\n",
       "      <td>es</td>\n",
       "    </tr>\n",
       "    <tr>\n",
       "      <th>...</th>\n",
       "      <td>...</td>\n",
       "      <td>...</td>\n",
       "      <td>...</td>\n",
       "    </tr>\n",
       "    <tr>\n",
       "      <th>4995</th>\n",
       "      <td>\"Criminal decente ordinario\" es triste porque ...</td>\n",
       "      <td>0</td>\n",
       "      <td>es</td>\n",
       "    </tr>\n",
       "    <tr>\n",
       "      <th>4996</th>\n",
       "      <td>Savage Island (2003) es una película coja.Es m...</td>\n",
       "      <td>0</td>\n",
       "      <td>es</td>\n",
       "    </tr>\n",
       "    <tr>\n",
       "      <th>4997</th>\n",
       "      <td>Quien escribió el script para esta película no...</td>\n",
       "      <td>0</td>\n",
       "      <td>es</td>\n",
       "    </tr>\n",
       "    <tr>\n",
       "      <th>4998</th>\n",
       "      <td>in a TV-movie 70's kind of way It's one of tho...</td>\n",
       "      <td>0</td>\n",
       "      <td>en</td>\n",
       "    </tr>\n",
       "    <tr>\n",
       "      <th>4999</th>\n",
       "      <td>Película decepcionante, predecible en la que u...</td>\n",
       "      <td>0</td>\n",
       "      <td>es</td>\n",
       "    </tr>\n",
       "  </tbody>\n",
       "</table>\n",
       "<p>5000 rows × 3 columns</p>\n",
       "</div>"
      ],
      "text/plain": [
       "                                              review_es  sentimiento idioma\n",
       "0     Si está buscando una película de guerra típica...            1     es\n",
       "1     Supongo que algunos directores de películas de...            1     es\n",
       "2     Es difícil contarle más sobre esta película si...            1     es\n",
       "3     La película comienza muy lentamente, con el es...            1     es\n",
       "4     Esta película es verdadera acción en su máxima...            1     es\n",
       "...                                                 ...          ...    ...\n",
       "4995  \"Criminal decente ordinario\" es triste porque ...            0     es\n",
       "4996  Savage Island (2003) es una película coja.Es m...            0     es\n",
       "4997  Quien escribió el script para esta película no...            0     es\n",
       "4998  in a TV-movie 70's kind of way It's one of tho...            0     en\n",
       "4999  Película decepcionante, predecible en la que u...            0     es\n",
       "\n",
       "[5000 rows x 3 columns]"
      ]
     },
     "execution_count": 17,
     "metadata": {},
     "output_type": "execute_result"
    }
   ],
   "source": [
    "data_clean"
   ]
  },
  {
   "cell_type": "markdown",
   "metadata": {
    "cell_id": "4f175aa3134c40ef99efca912f3a82bd",
    "deepnote_cell_type": "text-cell-p",
    "formattedRanges": []
   },
   "source": [
    "Se borran los registros de otros idiomas debido a que son una minoría en los datos, además "
   ]
  },
  {
   "cell_type": "code",
   "execution_count": 18,
   "metadata": {
    "cell_id": "60f5a3d5011241caa4601d0dd3e1c9d7",
    "deepnote_cell_type": "code",
    "deepnote_to_be_reexecuted": false,
    "execution_millis": 20,
    "execution_start": 1680386816251,
    "source_hash": "a4b897e3"
   },
   "outputs": [
    {
     "name": "stdout",
     "output_type": "stream",
     "text": [
      "es    1.0\n",
      "Name: idioma, dtype: float64\n"
     ]
    }
   ],
   "source": [
    "#borrar filas que tengan idioma diferente a español\n",
    "data_clean = data_clean[data_clean['idioma'] == 'es']\n",
    "print(data_clean['idioma'].value_counts(normalize=True))"
   ]
  },
  {
   "cell_type": "markdown",
   "metadata": {
    "cell_id": "5edab5fdf688438c8543d0e33f01b7f0",
    "deepnote_cell_type": "text-cell-h1",
    "formattedRanges": []
   },
   "source": [
    "# 2.5 Transformacion de los datos"
   ]
  },
  {
   "cell_type": "markdown",
   "metadata": {
    "cell_id": "740ac69717294c5daff03f68ecb3465a",
    "deepnote_cell_type": "text-cell-p",
    "formattedRanges": []
   },
   "source": [
    "Funciones para limpiar la información"
   ]
  },
  {
   "cell_type": "code",
   "execution_count": 19,
   "metadata": {
    "cell_id": "69e0ee0ef52e471ea4d52ccc9380b0dd",
    "deepnote_cell_type": "code",
    "deepnote_to_be_reexecuted": false,
    "execution_millis": 2,
    "execution_start": 1680386816326,
    "source_hash": "23eadf0d"
   },
   "outputs": [],
   "source": [
    "def remove_non_ascii(words):\n",
    "    \"\"\"Remove non-ASCII characters from list of tokenized words\"\"\"\n",
    "    new_words = []\n",
    "    for word in words:\n",
    "        new_word = unicodedata.normalize('NFKD', word).encode('ascii', 'ignore').decode('utf-8', 'ignore')\n",
    "        new_words.append(new_word)\n",
    "    return new_words\n",
    "\n",
    "def to_lowercase(words):\n",
    "    \"\"\"Convert all characters to lowercase from list of tokenized words\"\"\"\n",
    "    new_words = []\n",
    "    for word in words:\n",
    "        new_word = word.lower()\n",
    "        new_words.append(new_word)\n",
    "    return new_words\n",
    "\n",
    "def remove_punctuation(words):\n",
    "    \"\"\"Remove punctuation from list of tokenized words\"\"\"\n",
    "    new_words = []\n",
    "    for word in words:\n",
    "        new_word = re.sub(r'[^\\w\\s]', '', word)\n",
    "        if new_word != '':\n",
    "            new_words.append(new_word)\n",
    "    return new_words\n",
    "\n",
    "def replace_numbers(words):\n",
    "    \"\"\"Replace all interger occurrences in list of tokenized words with textual representation\"\"\"\n",
    "    p = inflect.engine()\n",
    "    new_words = []\n",
    "    for word in words:\n",
    "        if word.isdigit():\n",
    "            new_word = p.number_to_words(word)\n",
    "            new_words.append(new_word)\n",
    "        else:\n",
    "            new_words.append(word)\n",
    "    return new_words\n",
    "\n",
    "def preprocessing(words):\n",
    "    words = to_lowercase(words)\n",
    "    words = replace_numbers(words)\n",
    "    words = remove_punctuation(words)\n",
    "    words = remove_non_ascii(words)\n",
    "    return words"
   ]
  },
  {
   "cell_type": "markdown",
   "metadata": {
    "cell_id": "19d344b84fec4f76a0e5c9ee5e460a91",
    "deepnote_cell_type": "text-cell-p",
    "formattedRanges": []
   },
   "source": [
    "Se aplica la limpieza de datos a cada uno de las reviews de forma paralelizada distribuida en los nucleos de la CPU, se aplica el stemmer de porter antes de aplicarle la limpieza a los datos."
   ]
  },
  {
   "cell_type": "code",
   "execution_count": 20,
   "metadata": {
    "cell_id": "8ba9bec962a449bf9bbb71469a5c7979",
    "deepnote_cell_type": "code",
    "deepnote_to_be_reexecuted": false,
    "execution_millis": 46837,
    "execution_start": 1680386816327,
    "source_hash": "2fc3046f"
   },
   "outputs": [
    {
     "name": "stderr",
     "output_type": "stream",
     "text": [
      "C:\\Users\\Tony\\AppData\\Local\\Temp\\ipykernel_35876\\2145623767.py:10: SettingWithCopyWarning: \n",
      "A value is trying to be set on a copy of a slice from a DataFrame.\n",
      "Try using .loc[row_indexer,col_indexer] = value instead\n",
      "\n",
      "See the caveats in the documentation: https://pandas.pydata.org/pandas-docs/stable/user_guide/indexing.html#returning-a-view-versus-a-copy\n",
      "  data_clean['review_es'] = pd.concat(Parallel(n_jobs=num_processes)(delayed(process_data)(split['review_es']) for split in data_split))\n",
      "C:\\Users\\Tony\\AppData\\Local\\Temp\\ipykernel_35876\\2145623767.py:15: SettingWithCopyWarning: \n",
      "A value is trying to be set on a copy of a slice from a DataFrame.\n",
      "Try using .loc[row_indexer,col_indexer] = value instead\n",
      "\n",
      "See the caveats in the documentation: https://pandas.pydata.org/pandas-docs/stable/user_guide/indexing.html#returning-a-view-versus-a-copy\n",
      "  data_clean['review_es'] = data_clean['review_es'].apply(join_words)\n"
     ]
    }
   ],
   "source": [
    "stemmer = SnowballStemmer('spanish')\n",
    "def porter_stemmer_spanish(text):\n",
    "    return [stemmer.stem(word) for word in text.split()]\n",
    "\n",
    "def process_data(data):\n",
    "    return data.apply(porter_stemmer_spanish).apply(preprocessing)\n",
    "\n",
    "num_processes = os.cpu_count()\n",
    "data_split = np.array_split(data_clean, num_processes)\n",
    "data_clean['review_es'] = pd.concat(Parallel(n_jobs=num_processes)(delayed(process_data)(split['review_es']) for split in data_split))\n",
    "\n",
    "def join_words(words):\n",
    "    return ' '.join(words)\n",
    "\n",
    "data_clean['review_es'] = data_clean['review_es'].apply(join_words)\n",
    "# esta celda puede tardar hasta 10 minutos"
   ]
  },
  {
   "cell_type": "code",
   "execution_count": 21,
   "metadata": {
    "cell_id": "0e4a88376e8c4e2b8e86872ac6c80f2f",
    "deepnote_cell_type": "code",
    "deepnote_to_be_reexecuted": false,
    "execution_millis": 171,
    "execution_start": 1680386863204,
    "source_hash": "bd2c9989"
   },
   "outputs": [
    {
     "name": "stdout",
     "output_type": "stream",
     "text": [
      "                                              review_es  sentimiento idioma\n",
      "0     si esta busc una pelicul de guerr tipica esta ...            1     es\n",
      "1     supong que algun director de pelicul de luj es...            1     es\n",
      "2     es dificil cont mas sobr esta pelicul sin estr...            1     es\n",
      "3     la pelicul comienz muy lentamente con el estil...            1     es\n",
      "4     esta pelicul es verdader accion en su maxim ex...            1     es\n",
      "...                                                 ...          ...    ...\n",
      "4994  las bonit visual y much pel no hac una buen pe...            0     es\n",
      "4995  criminal decent ordinario es trist porqu obvi ...            0     es\n",
      "4996  savag island 2003 es una pelicul coja mas com ...            0     es\n",
      "4997  qui escrib el script par esta pelicul no merec...            0     es\n",
      "4999  pelicul decepcionante predec en la que una muj...            0     es\n",
      "\n",
      "[4803 rows x 3 columns]\n"
     ]
    }
   ],
   "source": [
    "data_clean.to_csv('data/data_cleaned.csv', index=False)\n",
    "print(data_clean)"
   ]
  },
  {
   "cell_type": "markdown",
   "metadata": {
    "cell_id": "014cde89e1f641fb80f1ebcd7a9829e2",
    "deepnote_cell_type": "text-cell-p",
    "formattedRanges": []
   },
   "source": [
    "Como se puede apreciar la información se encuentra lista para realizar los entrenamientos correspondientes de los modelos."
   ]
  },
  {
   "cell_type": "markdown",
   "metadata": {
    "cell_id": "a111ba4c72724048a0628af49ea043f3",
    "deepnote_cell_type": "text-cell-h1",
    "formattedRanges": []
   },
   "source": [
    "# Entendimiento y preparación de los datos."
   ]
  },
  {
   "cell_type": "markdown",
   "metadata": {
    "cell_id": "ad4ec4c2dda945ce8eab0637d5e2b0fe",
    "deepnote_cell_type": "text-cell-h3",
    "formattedRanges": []
   },
   "source": [
    "### Unicidad:"
   ]
  },
  {
   "cell_type": "markdown",
   "metadata": {
    "cell_id": "2bcfc2357c894b08bb44eb6e43a4b854",
    "deepnote_cell_type": "text-cell-p",
    "formattedRanges": []
   },
   "source": [
    "Pudimos notar que no había reseñas duplicadas, por lo que los datos contaban con total unicidad."
   ]
  },
  {
   "cell_type": "markdown",
   "metadata": {
    "cell_id": "f9b2792596394e9fa149035f5c534297",
    "deepnote_cell_type": "text-cell-h3",
    "formattedRanges": []
   },
   "source": [
    "### Completitud:"
   ]
  },
  {
   "cell_type": "markdown",
   "metadata": {
    "cell_id": "4da89641dd4648309cf47bc878235b03",
    "deepnote_cell_type": "text-cell-p",
    "formattedRanges": []
   },
   "source": [
    "Notamos tambíen que no habían datos nulos dentro de los datos entregados, por lo que contamos ocn datos completos que por el momento podríamos utilizar."
   ]
  },
  {
   "cell_type": "markdown",
   "metadata": {
    "cell_id": "bdc7f47b3b5e4fdfbe237751427d1fde",
    "deepnote_cell_type": "text-cell-h3",
    "formattedRanges": []
   },
   "source": [
    "### Consistencia:"
   ]
  },
  {
   "cell_type": "markdown",
   "metadata": {
    "cell_id": "d6e423d6fcc14e299c12e6b210b4b295",
    "deepnote_cell_type": "text-cell-p",
    "formattedRanges": []
   },
   "source": [
    "Para este caso confiamos en la fuente que nos proporcionó los y así en su consistencia."
   ]
  },
  {
   "cell_type": "markdown",
   "metadata": {
    "cell_id": "61c13c73b6d94035badf48e08f63bdaf",
    "deepnote_cell_type": "text-cell-h3",
    "formattedRanges": []
   },
   "source": [
    "### Validez:"
   ]
  },
  {
   "cell_type": "markdown",
   "metadata": {
    "cell_id": "7ef10c88d5a84c719560043ab17bbb47",
    "deepnote_cell_type": "text-cell-p",
    "formattedRanges": []
   },
   "source": [
    "La mayoría de los datos parecen estar entregados de forma correcta y cumplen con los criterios del negocio, no obstante hay unas excepciones, como reseñas en inglés que son datos que van a ser removidos para no afectar el modelo generado."
   ]
  },
  {
   "cell_type": "markdown",
   "metadata": {
    "cell_id": "e89b420dfbb54abb91a9a331c482e773",
    "deepnote_cell_type": "text-cell-h2",
    "formattedRanges": []
   },
   "source": [
    "## Preparación de los datos"
   ]
  },
  {
   "cell_type": "markdown",
   "metadata": {
    "cell_id": "29c9dd43f1034f3d9ecf9d354268aff9",
    "deepnote_cell_type": "text-cell-p",
    "formattedRanges": []
   },
   "source": [
    "En nuestro proceso para preparar los datos, lo primero que hicimos fue revisar la cantidad de reseñas escritas en inglés, más que todo para saber si era o no un procentaje significativo. Luego hicimos varios pasos para perfeccionar los datos antes de entrenar el modelo que fueron:"
   ]
  },
  {
   "cell_type": "markdown",
   "metadata": {
    "cell_id": "c9a9029f931c4fa8bf8d40e034e4234c",
    "deepnote_cell_type": "text-cell-number",
    "formattedRanges": [],
    "number": 1,
    "style": "decimal"
   },
   "source": [
    "1. Convertir nuestra variable resultado de string a numérica, donde 0 es negativa y 1 positiva para así poder entrenar los diferentes modelos"
   ]
  },
  {
   "cell_type": "markdown",
   "metadata": {
    "cell_id": "8bd86519bba6423aa207e205933af831",
    "deepnote_cell_type": "text-cell-number",
    "formattedRanges": [],
    "number": 2,
    "style": "decimal"
   },
   "source": [
    "2. Quitar todos los caracteres que no fueran ASCII de las reseñas "
   ]
  },
  {
   "cell_type": "markdown",
   "metadata": {
    "cell_id": "fb1f62c144764b08962fe4ca8621a72a",
    "deepnote_cell_type": "text-cell-number",
    "formattedRanges": [],
    "style": "decimal"
   },
   "source": [
    "undefined. Convertir todos las palabras a minúsculas para unificar palabras que contengan minusculas y mayusculas bajo la misma semántica."
   ]
  },
  {
   "cell_type": "markdown",
   "metadata": {
    "cell_id": "cc2e6c5f71ab40cbad94081c762bc2f5",
    "deepnote_cell_type": "text-cell-number",
    "formattedRanges": [],
    "style": "decimal"
   },
   "source": [
    "undefined. Eliminar la puntuación de las plabras, de igual forma que lo anterior para unificar al semántica de palabras que tienen puntuación."
   ]
  },
  {
   "cell_type": "markdown",
   "metadata": {
    "cell_id": "0993e27aee864563a78198bc68d04416",
    "deepnote_cell_type": "text-cell-number",
    "formattedRanges": [],
    "style": "decimal"
   },
   "source": [
    "undefined. Cambiar los números a texto para mantener la unicidad."
   ]
  },
  {
   "cell_type": "markdown",
   "metadata": {
    "cell_id": "44d4cc917aec45abb28f736e60e526ca",
    "deepnote_cell_type": "text-cell-number",
    "formattedRanges": [],
    "style": "decimal"
   },
   "source": [
    "undefined. Remover las \"stop words\" que hacen referencia a todas aquellas palabras que tienen una correlación muy baja o nula con la variable de salida que es el sentimiento. Esto se hace eliminando conectores y artículos de los textos."
   ]
  },
  {
   "cell_type": "markdown",
   "metadata": {
    "cell_id": "4fcad1861c1a4931bbf45043f3dcc1c6",
    "deepnote_cell_type": "text-cell-number",
    "formattedRanges": [],
    "style": "decimal"
   },
   "source": [
    "undefined. El proceso de verctorizar la reseña lo dejamos dentro del pipeline"
   ]
  },
  {
   "cell_type": "markdown",
   "metadata": {
    "cell_id": "e5e51141914645e8a52828cafb3c9184",
    "deepnote_cell_type": "text-cell-h1",
    "formattedRanges": []
   },
   "source": [
    "# 3. Entrenamiento de modelos"
   ]
  },
  {
   "cell_type": "markdown",
   "metadata": {
    "cell_id": "f07be7aaccbb44a09d84e9810c58fae6",
    "deepnote_cell_type": "text-cell-p",
    "formattedRanges": []
   },
   "source": [
    "Para poder generar un modelo óptimo que le permita a la empresa sacar de manera precisa la categoría de una reseña, vamos a implementar 3 algorítmos de clasificación que son planteados posteriormente, además vamos a realizar un gridsearch sobre cada algoritmo para asegurarnos de que los hiperparámetros escogidos para cada uno de los algoritmos sean los mejores."
   ]
  },
  {
   "cell_type": "markdown",
   "metadata": {
    "cell_id": "3493fc53f4604a9eadea5f66e375593c",
    "deepnote_cell_type": "text-cell-p",
    "formattedRanges": []
   },
   "source": [
    "Establecimiento de conjuntos de prueba "
   ]
  },
  {
   "cell_type": "code",
   "execution_count": 22,
   "metadata": {
    "cell_id": "d6414412e22145849b65b973d52d2a79",
    "deepnote_cell_type": "code",
    "deepnote_to_be_reexecuted": false,
    "execution_millis": 30,
    "execution_start": 1680388606267,
    "source_hash": "79181ac5"
   },
   "outputs": [],
   "source": [
    "review = data_clean[\"review_es\"]\n",
    "sentimiento = data_clean[\"sentimiento\"]\n",
    "\n",
    "X_train, X_test, y_train, y_test = train_test_split(review, sentimiento, test_size=0.2, random_state=42, stratify=sentimiento)\n",
    "particiones = KFold(n_splits=10, shuffle=True, random_state = 0)"
   ]
  },
  {
   "cell_type": "markdown",
   "metadata": {
    "cell_id": "0ccf75fb58374723bfdcdd46d583328d",
    "deepnote_cell_type": "text-cell-h2",
    "formattedRanges": []
   },
   "source": [
    "## 3.1. Regresión Logística"
   ]
  },
  {
   "cell_type": "markdown",
   "metadata": {
    "cell_id": "155dc597a3ac434a8a74eadd46e9aab9",
    "deepnote_cell_type": "text-cell-p",
    "formattedRanges": []
   },
   "source": [
    "El algoritmo de regresión logística es una buena opción para clasificar opiniones binarias de películas, ya que puede predecir si una opinión es positiva o negativa. Por ejemplo, si queremos clasificar comentarios de películas como positivos o negativos, podemos utilizar un modelo de regresión logística para entrenar un clasificador basado en características de los comentarios. El modelo podría utilizar características como el número de palabras positivas y negativas en el comentario, la presencia de palabras clave relacionadas con la trama o el género de la película, entre otros. El modelo puede luego predecir la probabilidad de que un comentario sea positivo o negativo. Con esta información, podemos determinar si una opinión es mayoritariamente positiva o negativa y usar esta información para tomar decisiones."
   ]
  },
  {
   "cell_type": "markdown",
   "metadata": {
    "cell_id": "19ddb58787ad4c0cabb3244929927b4a",
    "deepnote_cell_type": "text-cell-h3",
    "formattedRanges": []
   },
   "source": [
    "### Modelado"
   ]
  },
  {
   "cell_type": "markdown",
   "metadata": {
    "cell_id": "48b5451b88284fc99fed1601e6ac8480",
    "deepnote_cell_type": "text-cell-p",
    "formattedRanges": []
   },
   "source": [
    "Esta implementación utiliza la regresión logística como algoritmo de clasificación, el cual es adecuado para problemas de clasificación binaria como la clasificación de opiniones de películas. Se utiliza la técnica de vectorización TfidfVectorizer para convertir el texto en características numéricas y se integra en una tubería junto con la regresión logística. Además, se utiliza la búsqueda en cuadrícula para encontrar los mejores valores de los parámetros del modelo. La regresión logística es fácil de implementar y puede proporcionar probabilidades de clasificación en lugar de simples predicciones binarias, lo que es útil para la evaluación del modelo. La combinación de la regresión logística, la vectorización TfidfVectorizer y la búsqueda en cuadrícula permite obtener una alta precisión en la clasificación de opiniones de películas."
   ]
  },
  {
   "cell_type": "code",
   "execution_count": 23,
   "metadata": {
    "cell_id": "e7fa5e141d0047c4ac474c41177a135c",
    "deepnote_cell_type": "code",
    "deepnote_to_be_reexecuted": false,
    "execution_millis": 193812,
    "execution_start": 1680388754194,
    "source_hash": "fb34264a"
   },
   "outputs": [
    {
     "name": "stdout",
     "output_type": "stream",
     "text": [
      "Best params:  {'clf__C': 1}\n",
      "Score:  0.8470343392299687\n"
     ]
    }
   ],
   "source": [
    "params_logreg = {'clf__C': [10,1]}\n",
    "\n",
    "X_train, X_test, y_train, y_test = train_test_split(review, sentimiento, test_size=0.20)\n",
    "\n",
    "tfidf = TfidfVectorizer(ngram_range=(1,2), max_features=10000, min_df=5, max_df=0.7)\n",
    "\n",
    "lr_tfidf = Pipeline([('vect', tfidf),\n",
    "                      ('clf', LogisticRegression())])\n",
    "\n",
    "lr_tfidf = GridSearchCV(lr_tfidf, params_logreg, cv=particiones, n_jobs=-1)\n",
    "lr_tfidf.fit(X_train, y_train)\n",
    "\n",
    "score = lr_tfidf.score(X_test, y_test)\n",
    "print(\"Best params: \",lr_tfidf.best_params_)\n",
    "print(\"Score: \",score)"
   ]
  },
  {
   "cell_type": "markdown",
   "metadata": {
    "cell_id": "8a59910c9bb444e28997b80a8a4b365d",
    "deepnote_cell_type": "text-cell-p",
    "formattedRanges": []
   },
   "source": [
    "Se inicializa un pipeline aplicando vectorizacion y normalización de los tokens, posteriormente se realiza un randomizedSearch para buscar los mejores hiperparámetros que se ajusten al algoritmo. "
   ]
  },
  {
   "cell_type": "code",
   "execution_count": 24,
   "metadata": {
    "cell_id": "cc2adaadd8a640529f8e796106ae980b",
    "deepnote_cell_type": "code",
    "deepnote_to_be_reexecuted": false,
    "execution_millis": 5754,
    "execution_start": 1680389185933,
    "source_hash": "6861e4af"
   },
   "outputs": [],
   "source": [
    "y_train_predict = lr_tfidf.predict(X_train)\n",
    "y_test_predict = lr_tfidf.predict(X_test)"
   ]
  },
  {
   "cell_type": "markdown",
   "metadata": {
    "cell_id": "568f69f671af4784bfd054b8698185e0",
    "deepnote_cell_type": "text-cell-p",
    "formattedRanges": []
   },
   "source": [
    "Se muestran las palabras más relevantes para la decisión de si es o no una opinión negativa,"
   ]
  },
  {
   "cell_type": "markdown",
   "metadata": {
    "cell_id": "a801a445589e4ff69deaf01329329d07",
    "deepnote_cell_type": "text-cell-h3",
    "formattedRanges": []
   },
   "source": [
    "### Resultados del modelo"
   ]
  },
  {
   "cell_type": "markdown",
   "metadata": {
    "cell_id": "2a29945a7c6944f8ba4478b462545176",
    "deepnote_cell_type": "text-cell-p",
    "formattedRanges": []
   },
   "source": [
    "Se muestra la matríz de confusión asociada al modelo, para los datos de prueba."
   ]
  },
  {
   "cell_type": "code",
   "execution_count": 25,
   "metadata": {
    "cell_id": "f2309a965cfd427fb18487a896d5f65d",
    "deepnote_cell_type": "code",
    "deepnote_to_be_reexecuted": false,
    "execution_millis": 698,
    "execution_start": 1680389191691,
    "source_hash": "e8994a54"
   },
   "outputs": [
    {
     "name": "stdout",
     "output_type": "stream",
     "text": [
      "Precision: 0.9349385245901639\n",
      "Recall: 0.9475597092419522\n",
      "F1: 0.9412068076328004\n"
     ]
    },
    {
     "data": {
      "image/png": "[encoded data removed]",
      "text/plain": [
       "<Figure size 640x480 with 2 Axes>"
      ]
     },
     "metadata": {},
     "output_type": "display_data"
    }
   ],
   "source": [
    "print('Precision:', precision_score(y_train, y_train_predict, pos_label=1))\n",
    "print('Recall:', recall_score(y_train, y_train_predict, pos_label=1))\n",
    "print('F1:', f1_score(y_train, y_train_predict, pos_label=1))\n",
    "\n",
    "ConfusionMatrixDisplay.from_predictions(y_train, y_train_predict, normalize='true')\n",
    "plt.title('Matriz de confusión para el conjunto de entrenamiento')\n",
    "plt.show()"
   ]
  },
  {
   "cell_type": "markdown",
   "metadata": {
    "cell_id": "057da3cf57d24042a2daacc924ca9ff4",
    "deepnote_cell_type": "text-cell-p",
    "formattedRanges": []
   },
   "source": [
    "A continuación se muestra la matriz de confusión para los datos de prueba:"
   ]
  },
  {
   "cell_type": "code",
   "execution_count": 26,
   "metadata": {
    "cell_id": "bfa5f6a8e330421397c29c7d0ff689b1",
    "deepnote_cell_type": "code",
    "deepnote_to_be_reexecuted": false,
    "execution_millis": 694,
    "execution_start": 1680389192396,
    "source_hash": "99d5dea6"
   },
   "outputs": [
    {
     "name": "stdout",
     "output_type": "stream",
     "text": [
      "Matriz de confusión para el conjunto de prueba\n",
      "Precision: 0.8188976377952756\n",
      "Recall: 0.8832271762208068\n",
      "F1: 0.849846782431052\n"
     ]
    },
    {
     "data": {
      "image/png": "[encoded data removed]",
      "text/plain": [
       "<Figure size 640x480 with 2 Axes>"
      ]
     },
     "metadata": {},
     "output_type": "display_data"
    }
   ],
   "source": [
    "print(\"Matriz de confusión para el conjunto de prueba\")\n",
    "print('Precision:', precision_score(y_test, y_test_predict, pos_label=1))\n",
    "print('Recall:', recall_score(y_test, y_test_predict, pos_label=1))\n",
    "print('F1:', f1_score(y_test, y_test_predict, pos_label=1))\n",
    "\n",
    "ConfusionMatrixDisplay.from_predictions(y_test, y_test_predict, normalize='true')\n",
    "plt.title('Matriz de confusión para el conjunto de entrenamiento')\n",
    "plt.show()"
   ]
  },
  {
   "cell_type": "markdown",
   "metadata": {
    "cell_id": "80b1eaf2007a44249b51dc567f6e352d",
    "deepnote_cell_type": "text-cell-p",
    "formattedRanges": []
   },
   "source": [
    "Finalmente, estas son las métricas del modelo:"
   ]
  },
  {
   "cell_type": "code",
   "execution_count": 27,
   "metadata": {
    "cell_id": "663866d99e334c9fa028193e3c7d249a",
    "deepnote_cell_type": "code",
    "deepnote_to_be_reexecuted": false,
    "execution_millis": 62,
    "execution_start": 1680390399538,
    "source_hash": "2d157360"
   },
   "outputs": [
    {
     "name": "stdout",
     "output_type": "stream",
     "text": [
      "              precision    recall  f1-score   support\n",
      "\n",
      "           0       0.88      0.81      0.84       490\n",
      "           1       0.82      0.88      0.85       471\n",
      "\n",
      "    accuracy                           0.85       961\n",
      "   macro avg       0.85      0.85      0.85       961\n",
      "weighted avg       0.85      0.85      0.85       961\n",
      "\n"
     ]
    }
   ],
   "source": [
    "print(classification_report(y_test, y_test_predict))"
   ]
  },
  {
   "cell_type": "markdown",
   "metadata": {
    "cell_id": "4deaf1bc6e12410388194b745e91ee0a",
    "deepnote_cell_type": "markdown"
   },
   "source": [
    "#### Conclusión final del algoritmo"
   ]
  },
  {
   "cell_type": "markdown",
   "metadata": {
    "cell_id": "80865f47cd3442f794533bb88cda6771",
    "deepnote_cell_type": "text-cell-p",
    "formattedRanges": []
   },
   "source": [
    "Los resultados obtenidos a través de las matrices de evaluación indican que el proyecto ha logrado una predicción efectiva de aproximadamente el 85% ± 1%, evidenciado por el alto valor en las métricas de recall y precisión cercanos a 1. Estos resultados respaldan el desempeño general del proyecto y demuestran que el modelo es capaz de clasificar adecuadamente las opiniones de las películas."
   ]
  },
  {
   "cell_type": "markdown",
   "metadata": {
    "cell_id": "149f3e9bb67a434c8143cdacb495b31e",
    "deepnote_cell_type": "text-cell-h2",
    "formattedRanges": []
   },
   "source": [
    "## 3.2. Algoritmo de Naive Bayes (Multinomial)"
   ]
  },
  {
   "cell_type": "markdown",
   "metadata": {
    "cell_id": "4ade6b950a154483bd9c07d7e1d5fff8",
    "deepnote_cell_type": "text-cell-p",
    "formattedRanges": []
   },
   "source": [
    "El algoritmo de Bayes, más específicamente el de Naive Bayes se suele utilizar el los algoritmos de clasificación de texto, como lo es el la clasificación de satisfacción de un usuario basado en la reseña de una película, que se trata de una tarea de clasificación binaria. Multionomial Naive Bayes es una variante de Naive Bayes que tiene un mejor desempeño y es más comúnmente utilizado para datos discretos. En el caso de aplicación, el algoritmo de Multinomial Naive Bayes tiene diversas ventajas sobre otros algoritmos, dado que al realizar una implementación de Bag of Words mediante CountVectorizer, se tiene un conjunto de datos discretos que contemplan la frecuencia de ocurrencia de ciertas palabras o frases; adicionalmente MNB provée un factor de probabilidad para la clasificación de sentimientos que permite obtener mejores resultados en el análisis del sentimiento de una persona de acuerdo a las palabras de su reseña."
   ]
  },
  {
   "cell_type": "markdown",
   "metadata": {
    "cell_id": "a84feb62-3e52-4577-b4d3-ada9f4261f1b",
    "deepnote_cell_type": "text-cell-h3",
    "formattedRanges": []
   },
   "source": [
    "### Modelado"
   ]
  },
  {
   "cell_type": "markdown",
   "metadata": {
    "cell_id": "5fd74e28270d471a843046acd0add9f1",
    "deepnote_cell_type": "text-cell-p",
    "formattedRanges": []
   },
   "source": [
    "En específico en esta implementación se aplicó primero un CountVectorizer, como técnica de vectorización, que se encarga de tomar todas las reseñas preprocesadas, y convertirlas en una bolsa de palabras. Posteriormente se ejecuta el algoritmo Grid Search para la búsqueda del hiperparámetro 'alpha' del modelo Multinomial Naive Bayes, que representa un porcentaje de probabilidad adicional \"ficticio\" de la frecuencia de ciertas palabras o conjuntos de palabras, y que permite evitar que exista una probabilidad nula y así mejorar la precisión del modelo. "
   ]
  },
  {
   "cell_type": "code",
   "execution_count": 28,
   "metadata": {
    "cell_id": "292e3406e0ae4bbfb3ea836271625d28",
    "deepnote_cell_type": "code",
    "deepnote_to_be_reexecuted": false,
    "execution_millis": 7262,
    "execution_start": 1680390479394,
    "source_hash": "6be1fd5d"
   },
   "outputs": [
    {
     "name": "stdout",
     "output_type": "stream",
     "text": [
      "Best params:  {'alpha': 5.0}\n",
      "Score:  0.8274343885281384\n"
     ]
    }
   ],
   "source": [
    "# Convertir las reseñas en una bolsa de palabras\n",
    "vectorizer = CountVectorizer()\n",
    "X = vectorizer.fit_transform(review)\n",
    "\n",
    "# Dividir los datos en un conjunto de entrenamiento y un conjunto de prueba\n",
    "X_train2, X_test2, y_train2, y_test2 = train_test_split(X, sentimiento, test_size=0.2)\n",
    "\n",
    "# Definir los posibles valores de hiperparámetros a probar\n",
    "param_grid = {'alpha': [0.1] + [x/2 for x in range(1, 21)]} # [0.1, 0.5, 1.0, 1.5, ..., 9.5, 10.0]\n",
    "\n",
    "# Definir el modelo de Naive Bayes\n",
    "bys = MultinomialNB()\n",
    "\n",
    "# Utilizar GridSearchCV para encontrar los mejores hiperparámetros\n",
    "bys = GridSearchCV(bys, param_grid, cv=particiones, n_jobs=-1)\n",
    "bys.fit(X_train2, y_train2)\n",
    "\n",
    "# Obtener los mejores hiperparámetros y la precisión del modelo\n",
    "best_params = bys.best_params_\n",
    "accuracy = bys.best_score_\n",
    "print(\"Best params: \", best_params)\n",
    "print(\"Score: \", accuracy)"
   ]
  },
  {
   "cell_type": "markdown",
   "metadata": {
    "cell_id": "387b5ebd7a6f4543aceee119f401cfbd",
    "deepnote_cell_type": "text-cell-p",
    "formattedRanges": []
   },
   "source": [
    "Debido a que alpha consiste en un hiperparámetro estocástico entre ciertos rangos debido a la naturaleza del algoritmo Naive Bayes, su valor escogido en el Grid Search puede variar en diferentes ejecuciones."
   ]
  },
  {
   "cell_type": "code",
   "execution_count": 29,
   "metadata": {
    "cell_id": "c018df0d53f1459c90c1c1d722745b58",
    "deepnote_cell_type": "code",
    "deepnote_to_be_reexecuted": false,
    "execution_millis": 12,
    "execution_start": 1680390488010,
    "source_hash": "feb9b1ff"
   },
   "outputs": [],
   "source": [
    "y_train_predict2 = bys.predict(X_train2)\n",
    "y_test_predict2 = bys.predict(X_test2)"
   ]
  },
  {
   "cell_type": "markdown",
   "metadata": {
    "cell_id": "7fbe8699eade4b2a978062cbee7553bb",
    "deepnote_cell_type": "text-cell-h3",
    "formattedRanges": []
   },
   "source": [
    "### Resultados del modelo"
   ]
  },
  {
   "cell_type": "markdown",
   "metadata": {
    "cell_id": "b84b5956-9a75-49f9-ad00-a67178eb4f61",
    "deepnote_cell_type": "text-cell-p",
    "formattedRanges": []
   },
   "source": [
    "A continuación se muestra la matriz de confusión para los datos de entrenamiento:"
   ]
  },
  {
   "cell_type": "code",
   "execution_count": 30,
   "metadata": {
    "cell_id": "acc469c5079241afafb6f4d25d202a84",
    "deepnote_cell_type": "code",
    "deepnote_to_be_reexecuted": false,
    "execution_millis": 106,
    "execution_start": 1680390523390,
    "source_hash": "dcb76322"
   },
   "outputs": [
    {
     "name": "stdout",
     "output_type": "stream",
     "text": [
      "Precision: 0.9545454545454546\n",
      "Recall: 0.9304482225656878\n",
      "F1: 0.9423428124184712\n"
     ]
    },
    {
     "data": {
      "text/plain": [
       "<sklearn.metrics._plot.confusion_matrix.ConfusionMatrixDisplay at 0x144a3a58910>"
      ]
     },
     "execution_count": 30,
     "metadata": {},
     "output_type": "execute_result"
    },
    {
     "data": {
      "image/png": "[encoded data removed]",
      "text/plain": [
       "<Figure size 640x480 with 2 Axes>"
      ]
     },
     "metadata": {},
     "output_type": "display_data"
    }
   ],
   "source": [
    "print('Precision:', precision_score(y_train2, y_train_predict2, pos_label=1))\n",
    "print('Recall:', recall_score(y_train2, y_train_predict2, pos_label=1))\n",
    "print('F1:', f1_score(y_train2, y_train_predict2, pos_label=1))\n",
    "\n",
    "ConfusionMatrixDisplay.from_predictions(y_train2, y_train_predict2, normalize='true')"
   ]
  },
  {
   "cell_type": "markdown",
   "metadata": {
    "cell_id": "ab7f89239f6b49e9a8c790b943777fd9",
    "deepnote_cell_type": "text-cell-p",
    "formattedRanges": []
   },
   "source": [
    "A continuación se muestra la matriz de confusión para los datos de prueba:"
   ]
  },
  {
   "cell_type": "code",
   "execution_count": 31,
   "metadata": {
    "cell_id": "99c5d1d92c9349e1a9dcb36a2147c255",
    "deepnote_cell_type": "code",
    "deepnote_to_be_reexecuted": false,
    "execution_millis": 259,
    "execution_start": 1680390530862,
    "source_hash": "a04be4fc"
   },
   "outputs": [
    {
     "name": "stdout",
     "output_type": "stream",
     "text": [
      "Precision: 0.7880085653104925\n",
      "Recall: 0.8070175438596491\n",
      "F1: 0.7973997833152762\n"
     ]
    },
    {
     "data": {
      "text/plain": [
       "<sklearn.metrics._plot.confusion_matrix.ConfusionMatrixDisplay at 0x1449cee63d0>"
      ]
     },
     "execution_count": 31,
     "metadata": {},
     "output_type": "execute_result"
    },
    {
     "data": {
      "image/png": "[encoded data removed]",
      "text/plain": [
       "<Figure size 640x480 with 2 Axes>"
      ]
     },
     "metadata": {},
     "output_type": "display_data"
    }
   ],
   "source": [
    "print('Precision:', precision_score(y_test2, y_test_predict2, pos_label=1))\n",
    "print('Recall:', recall_score(y_test2, y_test_predict2, pos_label=1))\n",
    "print('F1:', f1_score(y_test2, y_test_predict2, pos_label=1))\n",
    "\n",
    "ConfusionMatrixDisplay.from_predictions(y_test2, y_test_predict2, normalize='true')"
   ]
  },
  {
   "cell_type": "markdown",
   "metadata": {
    "cell_id": "5d2312cce1654dc783308704ca443955",
    "deepnote_cell_type": "text-cell-p",
    "formattedRanges": []
   },
   "source": [
    "Finalmente, a continuación se presentan las métricas del modelo:"
   ]
  },
  {
   "cell_type": "code",
   "execution_count": 32,
   "metadata": {
    "cell_id": "d02c660850c7418a824aed94a00e062d",
    "deepnote_cell_type": "code",
    "deepnote_to_be_reexecuted": false,
    "execution_millis": 28,
    "execution_start": 1680390472632,
    "source_hash": "50e20c92"
   },
   "outputs": [
    {
     "name": "stdout",
     "output_type": "stream",
     "text": [
      "              precision    recall  f1-score   support\n",
      "\n",
      "           0       0.82      0.80      0.81       505\n",
      "           1       0.79      0.81      0.80       456\n",
      "\n",
      "    accuracy                           0.81       961\n",
      "   macro avg       0.80      0.81      0.81       961\n",
      "weighted avg       0.81      0.81      0.81       961\n",
      "\n"
     ]
    }
   ],
   "source": [
    "print(classification_report(y_test2, y_test_predict2))"
   ]
  },
  {
   "cell_type": "markdown",
   "metadata": {
    "cell_id": "9be3470d-6b40-4f50-a8a2-ba15fa60e339",
    "deepnote_cell_type": "text-cell-h3",
    "formattedRanges": []
   },
   "source": [
    "### Conclusión final del algoritmo"
   ]
  },
  {
   "cell_type": "markdown",
   "metadata": {
    "cell_id": "f6951bfe-f599-4f26-b760-a5324ebc1b18",
    "deepnote_cell_type": "text-cell-p",
    "formattedRanges": []
   },
   "source": [
    "Según lo que se puede observar en las matrices de confusión presentadas anteriormente, y según el score obtenido anteriormente; se tiene una precisión promedio del modelo de alrededor del 82%, que es bastante buena. Así mismo, dentro del modelo el mejor valor para aplha seleccionado, se encuentra entre 2.5 y 4.5, con el fin de maximizar la precisión del algoritmo."
   ]
  },
  {
   "cell_type": "markdown",
   "metadata": {
    "cell_id": "0d7d6483f125418aa885f7021f382400",
    "deepnote_cell_type": "text-cell-h2",
    "formattedRanges": []
   },
   "source": [
    "## 3.3. SVC"
   ]
  },
  {
   "cell_type": "markdown",
   "metadata": {
    "cell_id": "6d1a7a51938440f79bec42cdc5aa3dbe",
    "deepnote_cell_type": "text-cell-p",
    "formattedRanges": []
   },
   "source": [
    "El algoritmo de Máquinas de Vectores de Soporte (SVM, por sus siglas en inglés) es un algoritmo de aprendizaje supervisado utilizado para la clasificación y regresión de datos. La idea principal detrás de SVM es encontrar un hiperplano en un espacio de alta dimensión que maximice la distancia entre las clases. El algoritmo SVM es útil para problemas de clasificación binaria y multiclase y puede manejar conjuntos de datos no lineales mediante el uso de un truco de kernel para transformar los datos a un espacio de mayor dimensión. La elección del kernel es un aspecto importante en el rendimiento del modelo SVM y se puede elegir entre diferentes tipos de kernels, como lineal, polinomial y radial. Además, el algoritmo SVM es eficiente en la clasificación de conjuntos de datos con muchas características. Sin embargo, puede ser sensible a la selección de hiperparámetros y requiere más recursos computacionales que otros algoritmos de aprendizaje supervisado."
   ]
  },
  {
   "cell_type": "markdown",
   "metadata": {
    "cell_id": "3a3d98630f6c465a9b276f35462f46c3",
    "deepnote_cell_type": "text-cell-h3",
    "formattedRanges": []
   },
   "source": [
    "### Modelado"
   ]
  },
  {
   "cell_type": "markdown",
   "metadata": {
    "cell_id": "5379523742b9455785a4899caf191189",
    "deepnote_cell_type": "text-cell-p",
    "formattedRanges": []
   },
   "source": [
    "El algoritmo SVC ofrece varias ventajas importantes para la clasificación de datos, incluyendo su eficacia en conjuntos de datos complejos y no linealmente separables, su capacidad para generalizar bien para nuevos datos, su flexibilidad en la elección de funciones kernel, su capacidad para manejar datos atípicos o ruido en los datos y su alta precisión en la clasificación binaria. En este caso, la implementación del algoritmo SVC en una tubería junto con la técnica de vectorización TfidfVectorizer y la búsqueda en cuadrícula de los mejores parámetros, permite maximizar las ventajas de este algoritmo y mejorar la precisión de la clasificación de opiniones de películas."
   ]
  },
  {
   "cell_type": "code",
   "execution_count": 33,
   "metadata": {
    "cell_id": "7a8e65a2abdd4f928c0f37cd974e2a98",
    "deepnote_cell_type": "code",
    "deepnote_to_be_reexecuted": false,
    "execution_millis": 334053,
    "execution_start": 1680389207352,
    "source_hash": "e75f06af"
   },
   "outputs": [
    {
     "name": "stdout",
     "output_type": "stream",
     "text": [
      "Fitting 10 folds for each of 1 candidates, totalling 10 fits\n"
     ]
    },
    {
     "data": {
      "text/html": [
       "<style>#sk-container-id-1 {color: black;background-color: white;}#sk-container-id-1 pre{padding: 0;}#sk-container-id-1 div.sk-toggleable {background-color: white;}#sk-container-id-1 label.sk-toggleable__label {cursor: pointer;display: block;width: 100%;margin-bottom: 0;padding: 0.3em;box-sizing: border-box;text-align: center;}#sk-container-id-1 label.sk-toggleable__label-arrow:before {content: \"▸\";float: left;margin-right: 0.25em;color: #696969;}#sk-container-id-1 label.sk-toggleable__label-arrow:hover:before {color: black;}#sk-container-id-1 div.sk-estimator:hover label.sk-toggleable__label-arrow:before {color: black;}#sk-container-id-1 div.sk-toggleable__content {max-height: 0;max-width: 0;overflow: hidden;text-align: left;background-color: #f0f8ff;}#sk-container-id-1 div.sk-toggleable__content pre {margin: 0.2em;color: black;border-radius: 0.25em;background-color: #f0f8ff;}#sk-container-id-1 input.sk-toggleable__control:checked~div.sk-toggleable__content {max-height: 200px;max-width: 100%;overflow: auto;}#sk-container-id-1 input.sk-toggleable__control:checked~label.sk-toggleable__label-arrow:before {content: \"▾\";}#sk-container-id-1 div.sk-estimator input.sk-toggleable__control:checked~label.sk-toggleable__label {background-color: #d4ebff;}#sk-container-id-1 div.sk-label input.sk-toggleable__control:checked~label.sk-toggleable__label {background-color: #d4ebff;}#sk-container-id-1 input.sk-hidden--visually {border: 0;clip: rect(1px 1px 1px 1px);clip: rect(1px, 1px, 1px, 1px);height: 1px;margin: -1px;overflow: hidden;padding: 0;position: absolute;width: 1px;}#sk-container-id-1 div.sk-estimator {font-family: monospace;background-color: #f0f8ff;border: 1px dotted black;border-radius: 0.25em;box-sizing: border-box;margin-bottom: 0.5em;}#sk-container-id-1 div.sk-estimator:hover {background-color: #d4ebff;}#sk-container-id-1 div.sk-parallel-item::after {content: \"\";width: 100%;border-bottom: 1px solid gray;flex-grow: 1;}#sk-container-id-1 div.sk-label:hover label.sk-toggleable__label {background-color: #d4ebff;}#sk-container-id-1 div.sk-serial::before {content: \"\";position: absolute;border-left: 1px solid gray;box-sizing: border-box;top: 0;bottom: 0;left: 50%;z-index: 0;}#sk-container-id-1 div.sk-serial {display: flex;flex-direction: column;align-items: center;background-color: white;padding-right: 0.2em;padding-left: 0.2em;position: relative;}#sk-container-id-1 div.sk-item {position: relative;z-index: 1;}#sk-container-id-1 div.sk-parallel {display: flex;align-items: stretch;justify-content: center;background-color: white;position: relative;}#sk-container-id-1 div.sk-item::before, #sk-container-id-1 div.sk-parallel-item::before {content: \"\";position: absolute;border-left: 1px solid gray;box-sizing: border-box;top: 0;bottom: 0;left: 50%;z-index: -1;}#sk-container-id-1 div.sk-parallel-item {display: flex;flex-direction: column;z-index: 1;position: relative;background-color: white;}#sk-container-id-1 div.sk-parallel-item:first-child::after {align-self: flex-end;width: 50%;}#sk-container-id-1 div.sk-parallel-item:last-child::after {align-self: flex-start;width: 50%;}#sk-container-id-1 div.sk-parallel-item:only-child::after {width: 0;}#sk-container-id-1 div.sk-dashed-wrapped {border: 1px dashed gray;margin: 0 0.4em 0.5em 0.4em;box-sizing: border-box;padding-bottom: 0.4em;background-color: white;}#sk-container-id-1 div.sk-label label {font-family: monospace;font-weight: bold;display: inline-block;line-height: 1.2em;}#sk-container-id-1 div.sk-label-container {text-align: center;}#sk-container-id-1 div.sk-container {/* jupyter's `normalize.less` sets `[hidden] { display: none; }` but bootstrap.min.css set `[hidden] { display: none !important; }` so we also need the `!important` here to be able to override the default hidden behavior on the sphinx rendered scikit-learn.org. See: https://github.com/scikit-learn/scikit-learn/issues/21755 */display: inline-block !important;position: relative;}#sk-container-id-1 div.sk-text-repr-fallback {display: none;}</style><div id=\"sk-container-id-1\" class=\"sk-top-container\"><div class=\"sk-text-repr-fallback\"><pre>GridSearchCV(cv=KFold(n_splits=10, random_state=0, shuffle=True),\n",
       "             estimator=Pipeline(steps=[(&#x27;vect&#x27;, TfidfVectorizer()),\n",
       "                                       (&#x27;clf&#x27;, SVC())]),\n",
       "             n_jobs=-1, param_grid={&#x27;clf__C&#x27;: [1], &#x27;clf__kernel&#x27;: [&#x27;linear&#x27;]},\n",
       "             verbose=2)</pre><b>In a Jupyter environment, please rerun this cell to show the HTML representation or trust the notebook. <br />On GitHub, the HTML representation is unable to render, please try loading this page with nbviewer.org.</b></div><div class=\"sk-container\" hidden><div class=\"sk-item sk-dashed-wrapped\"><div class=\"sk-label-container\"><div class=\"sk-label sk-toggleable\"><input class=\"sk-toggleable__control sk-hidden--visually\" id=\"sk-estimator-id-1\" type=\"checkbox\" ><label for=\"sk-estimator-id-1\" class=\"sk-toggleable__label sk-toggleable__label-arrow\">GridSearchCV</label><div class=\"sk-toggleable__content\"><pre>GridSearchCV(cv=KFold(n_splits=10, random_state=0, shuffle=True),\n",
       "             estimator=Pipeline(steps=[(&#x27;vect&#x27;, TfidfVectorizer()),\n",
       "                                       (&#x27;clf&#x27;, SVC())]),\n",
       "             n_jobs=-1, param_grid={&#x27;clf__C&#x27;: [1], &#x27;clf__kernel&#x27;: [&#x27;linear&#x27;]},\n",
       "             verbose=2)</pre></div></div></div><div class=\"sk-parallel\"><div class=\"sk-parallel-item\"><div class=\"sk-item\"><div class=\"sk-label-container\"><div class=\"sk-label sk-toggleable\"><input class=\"sk-toggleable__control sk-hidden--visually\" id=\"sk-estimator-id-2\" type=\"checkbox\" ><label for=\"sk-estimator-id-2\" class=\"sk-toggleable__label sk-toggleable__label-arrow\">estimator: Pipeline</label><div class=\"sk-toggleable__content\"><pre>Pipeline(steps=[(&#x27;vect&#x27;, TfidfVectorizer()), (&#x27;clf&#x27;, SVC())])</pre></div></div></div><div class=\"sk-serial\"><div class=\"sk-item\"><div class=\"sk-serial\"><div class=\"sk-item\"><div class=\"sk-estimator sk-toggleable\"><input class=\"sk-toggleable__control sk-hidden--visually\" id=\"sk-estimator-id-3\" type=\"checkbox\" ><label for=\"sk-estimator-id-3\" class=\"sk-toggleable__label sk-toggleable__label-arrow\">TfidfVectorizer</label><div class=\"sk-toggleable__content\"><pre>TfidfVectorizer()</pre></div></div></div><div class=\"sk-item\"><div class=\"sk-estimator sk-toggleable\"><input class=\"sk-toggleable__control sk-hidden--visually\" id=\"sk-estimator-id-4\" type=\"checkbox\" ><label for=\"sk-estimator-id-4\" class=\"sk-toggleable__label sk-toggleable__label-arrow\">SVC</label><div class=\"sk-toggleable__content\"><pre>SVC()</pre></div></div></div></div></div></div></div></div></div></div></div></div>"
      ],
      "text/plain": [
       "GridSearchCV(cv=KFold(n_splits=10, random_state=0, shuffle=True),\n",
       "             estimator=Pipeline(steps=[('vect', TfidfVectorizer()),\n",
       "                                       ('clf', SVC())]),\n",
       "             n_jobs=-1, param_grid={'clf__C': [1], 'clf__kernel': ['linear']},\n",
       "             verbose=2)"
      ]
     },
     "execution_count": 33,
     "metadata": {},
     "output_type": "execute_result"
    }
   ],
   "source": [
    "params_svc = {'clf__C': [1], 'clf__kernel': ['linear']}\n",
    "tfidf = TfidfVectorizer()\n",
    "svc_tfidf = Pipeline([('vect', tfidf), ('clf', SVC())])\n",
    "svc_tfidf = GridSearchCV(svc_tfidf, params_svc, cv=particiones, n_jobs=-1, verbose=2)\n",
    "svc_tfidf.fit(X_train, y_train)\n",
    "# Se demora 6 minutos\n"
   ]
  },
  {
   "cell_type": "markdown",
   "metadata": {
    "cell_id": "45e1a856005a4bef9545b66adffe132a",
    "deepnote_cell_type": "text-cell-h3",
    "formattedRanges": []
   },
   "source": [
    "### Resultados del modelo"
   ]
  },
  {
   "cell_type": "code",
   "execution_count": 34,
   "metadata": {
    "cell_id": "29fd0f80fb4e4e5e81139517c624f0f5",
    "deepnote_cell_type": "code",
    "deepnote_to_be_reexecuted": false,
    "execution_millis": 9201,
    "execution_start": 1680389612483,
    "source_hash": "bc187f81"
   },
   "outputs": [
    {
     "name": "stdout",
     "output_type": "stream",
     "text": [
      "Best params:  {'clf__C': 1, 'clf__kernel': 'linear'}\n",
      "Score:  0.841831425598335\n"
     ]
    }
   ],
   "source": [
    "score = svc_tfidf.score(X_test, y_test)\n",
    "print(\"Best params: \", svc_tfidf.best_params_)\n",
    "print(\"Score: \", score)\n"
   ]
  },
  {
   "cell_type": "code",
   "execution_count": 35,
   "metadata": {
    "cell_id": "f6a2f7468f814f1d8d499992c4cf670c",
    "deepnote_cell_type": "code",
    "deepnote_to_be_reexecuted": false,
    "execution_millis": 45436,
    "execution_start": 1680389626168,
    "source_hash": "8e419c6a"
   },
   "outputs": [],
   "source": [
    "y_train_predict = svc_tfidf.predict(X_train)\n",
    "y_test_predict = svc_tfidf.predict(X_test)"
   ]
  },
  {
   "cell_type": "code",
   "execution_count": 36,
   "metadata": {
    "cell_id": "565bc784e0e94edb829ffa45917cbdec",
    "deepnote_cell_type": "code",
    "deepnote_to_be_reexecuted": false,
    "execution_millis": 672,
    "execution_start": 1680389671590,
    "source_hash": "9ff59831"
   },
   "outputs": [
    {
     "name": "stdout",
     "output_type": "stream",
     "text": [
      "Precision: 0.9828838174273858\n",
      "Recall: 0.9839044652128764\n",
      "F1: 0.9833938764919563\n"
     ]
    },
    {
     "data": {
      "image/png": "[encoded data removed]",
      "text/plain": [
       "<Figure size 640x480 with 2 Axes>"
      ]
     },
     "metadata": {},
     "output_type": "display_data"
    }
   ],
   "source": [
    "print('Precision:', precision_score(y_train, y_train_predict, pos_label=1))\n",
    "print('Recall:', recall_score(y_train, y_train_predict, pos_label=1))\n",
    "print('F1:', f1_score(y_train, y_train_predict, pos_label=1))\n",
    "ConfusionMatrixDisplay.from_predictions(y_train, y_train_predict, normalize='true')\n",
    "plt.title('Matriz de confusión para el conjunto de entrenamiento')\n",
    "plt.show()"
   ]
  },
  {
   "cell_type": "code",
   "execution_count": 37,
   "metadata": {
    "cell_id": "00b6ab3f625b488098b2a150101bc12d",
    "deepnote_cell_type": "code",
    "deepnote_to_be_reexecuted": false,
    "execution_millis": 822,
    "execution_start": 1680389673027,
    "source_hash": "99d5dea6"
   },
   "outputs": [
    {
     "name": "stdout",
     "output_type": "stream",
     "text": [
      "Matriz de confusión para el conjunto de prueba\n",
      "Precision: 0.8158415841584158\n",
      "Recall: 0.8747346072186837\n",
      "F1: 0.8442622950819672\n"
     ]
    },
    {
     "data": {
      "image/png": "[encoded data removed]",
      "text/plain": [
       "<Figure size 640x480 with 2 Axes>"
      ]
     },
     "metadata": {},
     "output_type": "display_data"
    }
   ],
   "source": [
    "print(\"Matriz de confusión para el conjunto de prueba\")\n",
    "print('Precision:', precision_score(y_test, y_test_predict, pos_label=1))\n",
    "print('Recall:', recall_score(y_test, y_test_predict, pos_label=1))\n",
    "print('F1:', f1_score(y_test, y_test_predict, pos_label=1))\n",
    "\n",
    "ConfusionMatrixDisplay.from_predictions(y_test, y_test_predict, normalize='true')\n",
    "plt.title('Matriz de confusión para el conjunto de entrenamiento')\n",
    "plt.show()"
   ]
  },
  {
   "cell_type": "markdown",
   "metadata": {
    "cell_id": "9961b09a88814ec7b1b87f2a8c4fa169",
    "deepnote_cell_type": "text-cell-p",
    "formattedRanges": []
   },
   "source": [
    "Finalmente, a continuación se presentan las métricas del modelo:"
   ]
  },
  {
   "cell_type": "code",
   "execution_count": 38,
   "metadata": {
    "cell_id": "5261cf96895c410a8d378f03cc95c205",
    "deepnote_cell_type": "code",
    "deepnote_to_be_reexecuted": false,
    "execution_millis": 11,
    "execution_start": 1680390596313,
    "source_hash": "2d157360"
   },
   "outputs": [
    {
     "name": "stdout",
     "output_type": "stream",
     "text": [
      "              precision    recall  f1-score   support\n",
      "\n",
      "           0       0.87      0.81      0.84       490\n",
      "           1       0.82      0.87      0.84       471\n",
      "\n",
      "    accuracy                           0.84       961\n",
      "   macro avg       0.84      0.84      0.84       961\n",
      "weighted avg       0.84      0.84      0.84       961\n",
      "\n"
     ]
    }
   ],
   "source": [
    "print(classification_report(y_test, y_test_predict))"
   ]
  },
  {
   "cell_type": "markdown",
   "metadata": {
    "cell_id": "3af3a237ff31464d9b93a53be05332d8",
    "deepnote_cell_type": "markdown"
   },
   "source": [
    "#### Conclusión final del algoritmo"
   ]
  },
  {
   "cell_type": "markdown",
   "metadata": {
    "cell_id": "1599f8ef-9b32-43b6-b613-78e5f9f30404",
    "deepnote_cell_type": "text-cell-p",
    "formattedRanges": []
   },
   "source": [
    "Como se puede observar en las matrices presentadas anteirormente, podemos observar como una precisión con los datos de test del 85%, lo que implica un resultado bueno y que permitirá al negocio hacer predicciones con respecto a las reseñas de una película. Este algorítmo tuvo como mejores parametros un C de 1, un y un kernel linear para maximizar la precisión. "
   ]
  },
  {
   "cell_type": "markdown",
   "metadata": {
    "cell_id": "a61e0b0e2d33484c97b46aa8b97ebd91",
    "deepnote_cell_type": "text-cell-h1",
    "formattedRanges": []
   },
   "source": [
    "# Mejoras a partir de lo hablado con el experto"
   ]
  },
  {
   "cell_type": "markdown",
   "metadata": {
    "cell_id": "b1348e49546c49628d94ff72fcff8625",
    "deepnote_cell_type": "text-cell-p",
    "formattedRanges": []
   },
   "source": [
    "Al hablar con el experto nos mencionó que podíamos utilizar producto cruz entre conjuntos de hiperparametros y que esto nos permitiría mejorar nuestro modelo al evaluar todos los posibles hiperparámetros, esto lo hicimos con un gridsearch para mejorar la solución y eligiendo la mejor variable de cada uno de los conjuntos de hiperparametros para maximizar el porcentaje de precision."
   ]
  },
  {
   "cell_type": "markdown",
   "metadata": {
    "cell_id": "032d8035-572f-4616-b75c-48a62eb7830a",
    "deepnote_cell_type": "text-cell-p",
    "formattedRanges": []
   },
   "source": [
    "Tambíen nos mencionó que podiamos intentar quitar el ruido o disminuir el ruido antes de ingresar la información al algorítmo, a lo que dijimos que ya habíamos realizado este proceso al hacer stemming, quitar las reseñas en inglés, quitar la puntuación y demás."
   ]
  },
  {
   "cell_type": "markdown",
   "metadata": {
    "cell_id": "c8e7f924f3a649c1b3d289188d1f09b6",
    "deepnote_cell_type": "text-cell-h1",
    "formattedRanges": []
   },
   "source": [
    "# Resultados"
   ]
  },
  {
   "cell_type": "markdown",
   "metadata": {
    "cell_id": "300615595c024150ac574d50ff28b4f4",
    "deepnote_cell_type": "text-cell-p",
    "formattedRanges": []
   },
   "source": [
    "Después de observar las métricas obtenidas por los 3 diferentes algoritmos, se puede observar que el algoritmo más preciso y con un mejor rendimiento para los datos de entrada suministrados, es el algoritmo de *Regresión Logística* ya que este tiene una precisión promedio de alrededor del 85%. A continuación se construye el modelo final y se exporta en formato Joblib del algoritmo de regresión logística:"
   ]
  },
  {
   "cell_type": "code",
   "execution_count": 39,
   "metadata": {
    "cell_id": "dbe32e8bfc1c4757a3b31af129dc1cb7",
    "deepnote_cell_type": "code",
    "deepnote_to_be_reexecuted": false,
    "execution_millis": 5279,
    "execution_start": 1680390215108,
    "source_hash": "339334ea",
    "tags": []
   },
   "outputs": [
    {
     "data": {
      "text/plain": [
       "['best_model.joblib']"
      ]
     },
     "execution_count": 39,
     "metadata": {},
     "output_type": "execute_result"
    }
   ],
   "source": [
    "\n",
    "class TextPreprocessor(BaseEstimator, TransformerMixin):\n",
    "    def __init__(self):\n",
    "        self.stemmer = SnowballStemmer('spanish')\n",
    "        self.p = inflect.engine()\n",
    "\n",
    "    def fit(self, X, y=None):\n",
    "        return self\n",
    "\n",
    "    def transform(self, X):\n",
    "        num_processes = os.cpu_count() or 2\n",
    "        X_split = np.array_split(X, num_processes)\n",
    "        X_processed = pd.concat(Parallel(n_jobs=num_processes)(delayed(self.process_data)(split) for split in X_split))\n",
    "        return X_processed\n",
    "\n",
    "    def fit_transform(self, X, y=None):\n",
    "        self.fit(X, y)\n",
    "        return self.transform(X)\n",
    "    \n",
    "    def process_data(self, data):\n",
    "        data_stemmed = data.apply(self.porter_stemmer_spanish)\n",
    "        data_processed = data_stemmed.apply(self.preprocessing_parallel)\n",
    "        data_processed = data_processed.apply(self.join_words)\n",
    "        return data_processed\n",
    "\n",
    "    def porter_stemmer_spanish(self, text):\n",
    "        return [self.stemmer.stem(word) for word in text.split()]\n",
    "\n",
    "    def join_words(self, words):\n",
    "        return ' '.join(words)\n",
    "\n",
    "    def remove_non_ascii(self, words):\n",
    "        \"\"\"Remove non-ASCII characters from list of tokenized words\"\"\"\n",
    "        new_words = []\n",
    "        for word in words:\n",
    "            new_word = unicodedata.normalize('NFKD', word).encode('ascii', 'ignore').decode('utf-8', 'ignore')\n",
    "            new_words.append(new_word)\n",
    "        return new_words\n",
    "\n",
    "    def to_lowercase(self, words):\n",
    "        \"\"\"Convert all characters to lowercase from list of tokenized words\"\"\"\n",
    "        new_words = []\n",
    "        for word in words:\n",
    "            new_word = word.lower()\n",
    "            new_words.append(new_word)\n",
    "        return new_words\n",
    "\n",
    "    def remove_punctuation(self, words):\n",
    "        \"\"\"Remove punctuation from list of tokenized words\"\"\"\n",
    "        new_words = []\n",
    "        for word in words:\n",
    "            new_word = re.sub(r'[^\\w\\s]', '', word)\n",
    "            if new_word != '':\n",
    "                new_words.append(new_word)\n",
    "        return new_words\n",
    "\n",
    "    def replace_numbers(self, words):\n",
    "        \"\"\"Replace all integer occurrences in list of tokenized words with textual representation\"\"\"\n",
    "        new_words = []\n",
    "        for word in words:\n",
    "            if word.isdigit():\n",
    "                new_word = self.p.number_to_words(word)\n",
    "                new_words.append(new_word)\n",
    "            else:\n",
    "                new_words.append(word)\n",
    "        return new_words\n",
    "\n",
    "    def preprocessing_parallel(self, words):\n",
    "        words = self.to_lowercase(words)\n",
    "        words = self.replace_numbers(words)\n",
    "        words = self.remove_punctuation(words)\n",
    "        words = self.remove_non_ascii(words)\n",
    "        return words\n",
    "\n",
    "text_preprocessor = TextPreprocessor()\n",
    "tfidf_vectorizer = TfidfVectorizer(ngram_range=(1,2), max_features=10000, min_df=5, max_df=0.7)\n",
    "log_reg = LogisticRegression(C=10)\n",
    "\n",
    "pipeline = make_pipeline(\n",
    "    text_preprocessor,\n",
    "    tfidf_vectorizer,\n",
    "    log_reg\n",
    ")\n",
    "\n",
    "# fit the pipeline on the training data\n",
    "pipeline.fit(review, sentimiento)\n",
    "\n",
    "joblib.dump(pipeline, \"best_model.joblib\")"
   ]
  },
  {
   "cell_type": "markdown",
   "metadata": {
    "cell_id": "3793bd307c014c7cadd98a7ce7d34533",
    "deepnote_cell_type": "text-cell-h1",
    "formattedRanges": []
   },
   "source": [
    "# Roles"
   ]
  },
  {
   "cell_type": "markdown",
   "metadata": {
    "cell_id": "a4a7e84e-5a07-4079-a180-649b212d4081",
    "deepnote_cell_type": "text-cell-h3",
    "formattedRanges": []
   },
   "source": [
    "### Brian Manuel Rivera:"
   ]
  },
  {
   "cell_type": "markdown",
   "metadata": {
    "cell_id": "5b121569-8e18-4b3c-a7b1-473bec47ab9c",
    "deepnote_cell_type": "text-cell-p",
    "formattedRanges": []
   },
   "source": [
    "\n",
    "Rol: líder de datos\n",
    "Brian se encargó en su mayoría de la limpieza de datos, haciendo el tratamiento de las variables, vectorizando las reseñas de entrada, eliminado las palabras que generaran ruido, eliminando las reseñas en inglés y en general dejando los datos listos para poder ser utilizados por el resto del equipo. Brian realizó el algoritmo de Regresión Logística para intentar solucionar el proyecto planteado"
   ]
  },
  {
   "cell_type": "markdown",
   "metadata": {
    "cell_id": "abb56b8d-e6cc-4fc0-aa9e-451c1dae540e",
    "deepnote_cell_type": "text-cell-h3",
    "formattedRanges": []
   },
   "source": [
    "### Tony Santiago Montes"
   ]
  },
  {
   "cell_type": "markdown",
   "metadata": {
    "cell_id": "5873a6d5-8e49-4b66-85cc-9035bf3453b5",
    "deepnote_cell_type": "text-cell-p",
    "formattedRanges": []
   },
   "source": [
    "\n",
    "Rol: líder de negocio y líder de analítica \n",
    "Tony se encargó de revisar los diferentes modelos y escoger el mejor modelo, en definir con qué métricas evaluaríamos los algoritmos realizados y verificar los estándares de calidad necesarios para la entrega del modelo que mejor se comporta. Además, Tony veló por resolver el problema del negocio y dirigir el equipo hacia el fin de completar la tarea que el negocio necesita. También fue el encargado de comunicarse con el experto de estadística y tener listas las preguntas así lograr un trabajo interdisciplinario con esta persona. Tony desarrollo el algoritmo de multinomial Naive Bayes para intentar solucionar el problema."
   ]
  },
  {
   "cell_type": "markdown",
   "metadata": {
    "cell_id": "0204b199-78d9-44fa-967f-65f2a56f0df6",
    "deepnote_cell_type": "text-cell-h3",
    "formattedRanges": []
   },
   "source": [
    "### Luccas Rojas"
   ]
  },
  {
   "cell_type": "markdown",
   "metadata": {
    "cell_id": "9ef56555-ec0a-479f-a9bb-247ef312ce83",
    "deepnote_cell_type": "text-cell-p",
    "formattedRanges": []
   },
   "source": [
    "\n",
    "Rol: líder del proyecto\n",
    "Luccas Rojas fue el encargado de dirigir el proyecto, establecer los días y horas de reunión entre todos los integrantes, en organizar los entregables del grupo y asignar las tareas que cada uno de los integrantes iba a realizar para que fuera lo más equitativo posible. Además, fue el que desarrolló el algoritmo de SVC para intentar solucionar el problema.\n"
   ]
  },
  {
   "cell_type": "markdown",
   "metadata": {
    "cell_id": "2146733292a1477f825db2d7aea29d43",
    "deepnote_cell_type": "text-cell-h1",
    "formattedRanges": []
   },
   "source": [
    "# Reflexión grupal"
   ]
  },
  {
   "cell_type": "markdown",
   "metadata": {
    "cell_id": "2b2b00cd-9087-422c-90f1-cd68f3cb910f",
    "deepnote_cell_type": "text-cell-h3",
    "formattedRanges": []
   },
   "source": [
    "### Repartición de los 100 puntos"
   ]
  },
  {
   "cell_type": "markdown",
   "metadata": {
    "cell_id": "8c6f166f-7fc2-42ce-8c68-6065a34e331f",
    "deepnote_cell_type": "text-cell-p",
    "formattedRanges": []
   },
   "source": [
    "Tony Santiago Montes 33.3"
   ]
  },
  {
   "cell_type": "markdown",
   "metadata": {
    "cell_id": "9a9d237b-3957-4f2e-b3c3-35ff6221c67c",
    "deepnote_cell_type": "text-cell-p",
    "formattedRanges": []
   },
   "source": [
    "Brian Manuel Rivera 33.3"
   ]
  },
  {
   "cell_type": "markdown",
   "metadata": {
    "cell_id": "5c455cf1-871b-4c7e-8d0d-49194c608edf",
    "deepnote_cell_type": "text-cell-p",
    "formattedRanges": []
   },
   "source": [
    "Luccas Rojas 33.3"
   ]
  },
  {
   "cell_type": "markdown",
   "metadata": {
    "cell_id": "1b675101-eba3-42a6-8505-932b31dae1c6",
    "deepnote_cell_type": "text-cell-h3",
    "formattedRanges": []
   },
   "source": [
    "### Aspectos a mejorar"
   ]
  },
  {
   "cell_type": "markdown",
   "metadata": {
    "cell_id": "2946558d-b784-49d5-a2a0-31443f98bf01",
    "deepnote_cell_type": "text-cell-bullet",
    "formattedRanges": []
   },
   "source": [
    "- Reunirnos mas seguido"
   ]
  },
  {
   "cell_type": "markdown",
   "metadata": {
    "cell_id": "17494b5a-da84-45be-9567-e353a30f762d",
    "deepnote_cell_type": "text-cell-bullet",
    "formattedRanges": []
   },
   "source": [
    "- Definir los roles y el trabajo por hacer desde el principio "
   ]
  },
  {
   "cell_type": "markdown",
   "metadata": {
    "cell_id": "e628dc62-e87e-4ec3-b4ed-222d4a091382",
    "deepnote_cell_type": "text-cell-bullet",
    "formattedRanges": []
   },
   "source": [
    "- Mejorar la comunicación entre nosotros para coordinar las tareas y asi no llegar a repetir las tareas que otros ya realizaron"
   ]
  },
  {
   "cell_type": "markdown",
   "metadata": {
    "cell_id": "676a1082-5eca-43b2-9b11-594531202d3d",
    "deepnote_cell_type": "text-cell-bullet",
    "formattedRanges": []
   },
   "source": [
    "- Mejorar la cooperación del equipo para que todos nos ayudemos en las tareas y podamos aprender de lo que el otro hizo."
   ]
  },
  {
   "cell_type": "markdown",
   "metadata": {
    "cell_id": "831ad3c3-c450-4c9d-b0e5-ca6719d2436a",
    "deepnote_cell_type": "text-cell-bullet",
    "formattedRanges": []
   },
   "source": [
    "- Tenemos que mejorar también la motivación que tenemos con respecto a las actividades,  ya que llegamos a hacer el trabajo sólo por entregarlo."
   ]
  },
  {
   "cell_type": "markdown",
   "metadata": {
    "cell_id": "08476c14-1e97-4e02-94b1-de3198184b4d",
    "deepnote_cell_type": "text-cell-bullet",
    "formattedRanges": []
   },
   "source": [
    "- Debemos aprender a manejar mejor el tiempo para que nos rinda más y tengamos más tiempo para corregir lo errores."
   ]
  },
  {
   "cell_type": "markdown",
   "metadata": {
    "created_in_deepnote_cell": true,
    "deepnote_cell_type": "markdown"
   },
   "source": [
    "<a style='text-decoration:none;line-height:16px;display:flex;color:#5B5B62;padding:10px;justify-content:end;' href='https://deepnote.com?utm_source=created-in-deepnote-cell&projectId=b9916bc4-d763-4afb-9dbf-ca84bf74d9b6' target=\"_blank\">\n",
    "<img alt='Created in deepnote.com' style='display:inline;max-height:16px;margin:0px;margin-right:7.5px;' src='data:image/svg+xml;base64,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' > </img>\n",
    "Created in <span style='font-weight:600;margin-left:4px;'>Deepnote</span></a>"
   ]
  }
 ],
 "metadata": {
  "deepnote": {},
  "deepnote_execution_queue": [],
  "deepnote_notebook_id": "8779e2cc959c45fc8ae60dff339c7db7",
  "deepnote_persisted_session": {
   "createdAt": "2023-04-01T20:32:30.607Z"
  },
  "kernelspec": {
   "display_name": "Python 3 (ipykernel)",
   "language": "python",
   "name": "python3"
  },
  "language_info": {
   "codemirror_mode": {
    "name": "ipython",
    "version": 3
   },
   "file_extension": ".py",
   "mimetype": "text/x-python",
   "name": "python",
   "nbconvert_exporter": "python",
   "pygments_lexer": "ipython3",
   "version": "3.11.2"
  }
 },
 "nbformat": 4,
 "nbformat_minor": 4
}
